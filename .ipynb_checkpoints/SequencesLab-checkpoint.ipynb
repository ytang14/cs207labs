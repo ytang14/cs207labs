{
 "cells": [
  {
   "cell_type": "markdown",
   "metadata": {},
   "source": [
    "### Q1.\n",
    "\n",
    "**Project exercise. Please do this with your team.**\n",
    "\n",
    "This question continues your implementation of the time series class you started on Monday. On Monday, you stored your time series as a python list. Today, you will store the data as a numpy 1-D array.\n",
    "\n",
    "Please implement a new class `ArrayTimeSeries` which inherits your `TimeSeries` class and uses `numpy.array` to store the data internally.\n",
    "\n",
    "At this point you will notice a fundamental mismatch: unlike python `list`s or `array.array`s which are dynamic, `numpy` expects you to provide a length of the sequence. This means that you cant process each element of the time series as it comes in, and must calculate the length of the input sequence to allocate space for the time series in your constructor. (This makes it hard to write a \"direct from file\" without intermdiate storage implementation; but we shall worry about this later).\n",
    "\n",
    "Because your class inherits from your `TimeSeries` class, you'll notice you get some functionality automatically. You may choose to reimplement `__getitem__`, `__setitem__`, and `__len__` at your discretion. Please do NOT implement a `__str__` or `__repr__` function. Note that this means the `__str__` and `__repr__` functions will need to work with both classes, and you may need to fix your original versions.\n",
    "\n",
    "Make sure that any doctests you wrote on Monday to test all kinds of sequences as input still pass. (If you didnt write any, how do you know your sime series Class from Monday is any good? We'll be testing your code by running our own tests as well!)"
   ]
  },
  {
   "cell_type": "code",
   "execution_count": 3,
   "metadata": {
    "collapsed": true
   },
   "outputs": [],
   "source": [
    "import numpy as np"
   ]
  },
  {
   "cell_type": "code",
   "execution_count": 28,
   "metadata": {
    "collapsed": true
   },
   "outputs": [],
   "source": [
    "class TimeSeries():\n",
    "    '''\n",
    "Help on package TimeSeries:\n",
    "\n",
    "NAME\n",
    "    TimeSeries\n",
    "\n",
    "DESCRIPTION\n",
    "    TimeSeries\n",
    "    =====\n",
    "    \n",
    "    Provides\n",
    "      1. An sequence or any iterable objects\n",
    "    \n",
    "    How to use the documentation\n",
    "    ----------------------------\n",
    "    Documentation is available in two forms: docstrings provided\n",
    "    with the code, and a loose standing reference guide, available from\n",
    "    `the TimeSeries homepage <https://github.com/cs207-project>`_.\n",
    "    \n",
    "    We recommend exploring the docstrings using\n",
    "    `IPython <http://ipython.scipy.org>`_, an advanced Python shell with\n",
    "    TAB-completion and introspection capabilities.  See below for further\n",
    "    instructions.\n",
    "    \n",
    "    The docstring examples assume that `numpy` has been imported as `np`::\n",
    "     \n",
    "      >>> import TimeSeris as TS\n",
    "    \n",
    "    \n",
    "    \n",
    "     |  Methods inherited from builtins.RuntimeWarning:\n",
    "     |  \n",
    "     |  __init__(self, *args, **kwargs)\n",
    "     |      Initialize self.  See help(type(self)) for accurate signature.\n",
    "     |      Stors a TimeSeries in self._TimeSeries\n",
    "     |    \n",
    "     |  __repr__(self, /)\n",
    "     |      Return a printable sequence shown in python list format containing all values in [self].\n",
    "     |  \n",
    "     |  __str__(self, /)\n",
    "     |      Return a printable abbreviated sequence of maximum first 100 entrees.\n",
    "     |  \n",
    "     |  __getitem__(self, index)\n",
    "     |      Return self[index]\n",
    "     |\n",
    "     |  __setitem__(self, index, values)\n",
    "     |      Set self[index] = values\n",
    "     |\n",
    "     |  __len__(self)\n",
    "     |      Return len(self._TimeSeries)\n",
    "   \n",
    "    '''\n",
    "    def __init__(self,*args, **kwargs):\n",
    "        if (iter(*args)):\n",
    "            self._TimeSeries = list(*args)\n",
    "    \n",
    "    def __len__(self):\n",
    "        return len(self._TimeSeries)\n",
    "    \n",
    "    def __getitem__(self,index):\n",
    "        return self._TimeSeries[index]\n",
    "\n",
    "    def __setitem__(self,index,value):\n",
    "        self._TimeSeries[index] = value\n",
    "    def __repr__(self):\n",
    "        return \"%r\"%(self._TimeSeries)\n",
    "    def __str__(self):\n",
    "        className = type(self).__name__\n",
    "        if len(self._TimeSeries)>100:\n",
    "            return \"%s\" %('['+(str(self._TimeSeries[:99]))[1:-1]+'...'+']')\n",
    "        else:\n",
    "            return \"%s\" %(self._TimeSeries)"
   ]
  },
  {
   "cell_type": "code",
   "execution_count": 75,
   "metadata": {
    "collapsed": true
   },
   "outputs": [],
   "source": [
    "class ArrayTimeSeries(TimeSeries):\n",
    "     \n",
    "        \n",
    "    def __init__(self,*args, **kwargs):\n",
    "        if (iter(*args)):\n",
    "            self._TimeSeries = np.array(*args)\n"
   ]
  },
  {
   "cell_type": "code",
   "execution_count": 85,
   "metadata": {
    "collapsed": false
   },
   "outputs": [
    {
     "name": "stdout",
     "output_type": "stream",
     "text": [
      "sum 233168\n",
      "CPU times: user 1.39 s, sys: 2.93 ms, total: 1.4 s\n",
      "Wall time: 1.4 s\n"
     ]
    }
   ],
   "source": [
    "%%time\n",
    "threes = ArrayTimeSeries(range(0,10000,3))\n",
    "fives = ArrayTimeSeries(range(0,10000,5))\n",
    "s = 0\n",
    "for i in range(0,1000):\n",
    "    if i in threes or i in fives:\n",
    "        s += i\n",
    "\n",
    "print(\"sum\",s)"
   ]
  },
  {
   "cell_type": "code",
   "execution_count": 86,
   "metadata": {
    "collapsed": false
   },
   "outputs": [
    {
     "name": "stdout",
     "output_type": "stream",
     "text": [
      "sum 233168\n",
      "CPU times: user 940 ms, sys: 2.65 ms, total: 943 ms\n",
      "Wall time: 943 ms\n"
     ]
    }
   ],
   "source": [
    "%%time\n",
    "threes = TimeSeries(range(0,10000,3))\n",
    "fives = TimeSeries(range(0,10000,5))\n",
    "s = 0\n",
    "for i in range(0,1000):\n",
    "    if i in threes or i in fives:\n",
    "        s += i\n",
    "\n",
    "print(\"sum\",s)"
   ]
  },
  {
   "cell_type": "markdown",
   "metadata": {},
   "source": [
    "### Q2.\n",
    "\n",
    "**Individual exercise.**\n",
    "\n",
    "Add a `__setitem__` to the python linked list implementation from the lecture."
   ]
  },
  {
   "cell_type": "code",
   "execution_count": 35,
   "metadata": {
    "collapsed": false
   },
   "outputs": [],
   "source": [
    "#todo: make a copy instead????\n",
    "from doctest import run_docstring_examples as dtest\n",
    "import numbers\n",
    "import reprlib\n",
    "class LL:\n",
    "    \"\"\"\n",
    "    >>> A = LL()  \n",
    "    >>> A[0]\n",
    "    Traceback (most recent call last):\n",
    "        ...\n",
    "    IndexError: trying to index an empty LL\n",
    "    >>> A.insert_front(1)\n",
    "    >>> A[0]\n",
    "    1\n",
    "    >>> A.insert_back(2)\n",
    "    >>> A[1]\n",
    "    2\n",
    "    >>> A\n",
    "    LL([1,...])\n",
    "    >>> myll = LL.from_components([1,2])\n",
    "    >>> myll[1]\n",
    "    1\n",
    "    >>> len(myll)\n",
    "    2\n",
    "    >>> myll[2]\n",
    "    Traceback (most recent call last):\n",
    "        ...\n",
    "    IndexError: LL index out of range\n",
    "    >>> myll[0:1]\n",
    "    Traceback (most recent call last):\n",
    "        ...\n",
    "    TypeError: LL indices must be integers\n",
    "    \"\"\"\n",
    "    @classmethod\n",
    "    def from_components(cls, components):\n",
    "        inst = cls(components[0])\n",
    "        for c in components[1:]:\n",
    "            inst.insert_front(c)\n",
    "        return inst\n",
    "        \n",
    "    def __init__(self, head=None):\n",
    "        if head is None:\n",
    "            self._headNode = None\n",
    "        else:\n",
    "            self._headNode = [head, None]\n",
    "            \n",
    "    def insert_front(self, element):\n",
    "        new_node = [element, None]\n",
    "        new_node[1] = self._headNode\n",
    "        self._headNode = new_node\n",
    "        \n",
    "    def insert_back(self, element):\n",
    "        new_node = [element, None]\n",
    "        curr_ptr = self._headNode\n",
    "        while curr_ptr[1] is not None:\n",
    "            curr_ptr = curr_ptr[1]\n",
    "        curr_ptr[1]= new_node\n",
    "        \n",
    "    def __repr__(self):\n",
    "        class_name = type(self).__name__\n",
    "        if len(self)==0:\n",
    "            components=\"\"\n",
    "        else:\n",
    "            components = reprlib.repr(self[0])\n",
    "        return '{}([{},...])'.format(class_name,components)\n",
    "\n",
    "\n",
    "    def __len__(self):\n",
    "        curr_ptr = self._headNode\n",
    "        count = 0\n",
    "        if curr_ptr==None:\n",
    "            return 0\n",
    "        while 1:\n",
    "            count = count + 1\n",
    "            if curr_ptr[1] is None:\n",
    "                break\n",
    "            curr_ptr = curr_ptr[1]\n",
    "        return count    \n",
    "    \n",
    "    def __getitem__(self, index):\n",
    "        class_name = type(self).__name__\n",
    "        if isinstance(index, numbers.Integral): \n",
    "            curr_ptr = self._headNode\n",
    "            if curr_ptr==None:\n",
    "                msg = 'trying to index an empty {class_name}' \n",
    "                raise IndexError(msg.format(class_name=class_name))\n",
    "            next_ptr = self._headNode[1]\n",
    "            count = 0\n",
    "            while 1:\n",
    "                if index == count:\n",
    "                    return curr_ptr[0]\n",
    "                if curr_ptr[1] is None:\n",
    "                    msg = '{class_name} index out of range' \n",
    "                    raise IndexError(msg.format(class_name=class_name))       \n",
    "                count += 1\n",
    "                curr_ptr = curr_ptr[1]\n",
    "        else:\n",
    "            msg = '{class_name} indices must be integers' \n",
    "            raise TypeError(msg.format(class_name=class_name))\n",
    "    def __setitem__(self, index, value):\n",
    "        class_name = type(self).__name__\n",
    "        if (isinstance(index, numbers.Integral)):\n",
    "            curr_ptr = self._headNode\n",
    "            if curr_ptr == None:\n",
    "                msg = 'trying to index an empty {class_name}'\n",
    "                raise IndexError(msg.format(class_name = class_name))\n",
    "            #next_ptr = self._headNode[1]\n",
    "            count = 0\n",
    "            while 1:\n",
    "                if index == count:\n",
    "                    curr_ptr[0] = value\n",
    "                    return\n",
    "                if curr_ptr[1] is None:\n",
    "                    msg = '{class_name} index out of range' \n",
    "                    raise IndexError(msg.format(class_name=class_name))\n",
    "                count += 1\n",
    "                curr_ptr = curr_ptr[1]\n",
    "        else:\n",
    "            msg = '{class_name} indices must be integers' \n",
    "            raise TypeError(msg.format(class_name=class_name))"
   ]
  },
  {
   "cell_type": "code",
   "execution_count": 40,
   "metadata": {
    "collapsed": false
   },
   "outputs": [
    {
     "data": {
      "text/plain": [
       "0"
      ]
     },
     "execution_count": 40,
     "metadata": {},
     "output_type": "execute_result"
    }
   ],
   "source": []
  },
  {
   "cell_type": "markdown",
   "metadata": {},
   "source": [
    "### Q3.\n",
    "\n",
    "**Individual exercise.**\n",
    "\n",
    "Finish the second part of last friday's C linked list lab: implement the `remove_item` and `get_index` functions. For fun, you might want to implement an `insert_back`, and `set_item` function as well."
   ]
  },
  {
   "cell_type": "code",
   "execution_count": 43,
   "metadata": {
    "collapsed": false
   },
   "outputs": [
    {
     "name": "stdout",
     "output_type": "stream",
     "text": [
      "Writing linked_list.c\n"
     ]
    }
   ],
   "source": [
    "%%file linked_list.c\n",
    "\n",
    "#include <stdlib.h>\n",
    "#include <stdio.h>\n",
    "\n",
    "typedef struct item {\n",
    "    int value;\n",
    "    struct item* rest;\n",
    "} Item;\n",
    "\n",
    "Item* new_item(int value){\n",
    "    Item* newitem = (Item *) malloc(sizeof(Item));\n",
    "    newitem->value = value;\n",
    "    newitem->rest = NULL;\n",
    "    return newitem;\n",
    "}\n",
    "\n",
    "Item* insert_front(Item* listptr, int value){\n",
    "    Item* newitem = new_item(value);\n",
    "    newitem->rest = listptr;\n",
    "    return newitem;\n",
    "}\n",
    "\n",
    "int get_index(Item* listptr, int value)\n",
    "{\n",
    "    int ctr = 0;\n",
    "    Item* curr;\n",
    "    for (curr = listptr; curr != NULL; curr = curr->rest)\n",
    "    {\n",
    "        if (curr->value == value)\n",
    "            return ctr;\n",
    "        ctr++;\n",
    "    }\n",
    "    return -1;\n",
    "}\n",
    "\n",
    "Item* remove_item(Item* listptr, int value)\n",
    "{\n",
    "    if (listptr == NULL)\n",
    "        return NULL;\n",
    "    if (listptr->value == value)\n",
    "    {\n",
    "        Item* temp;\n",
    "        temp = listptr->rest;\n",
    "        free(listptr);\n",
    "        return temp;\n",
    "    }\n",
    "    listptr->rest = remove_item(listptr->rest,value);\n",
    "    return listptr;\n",
    "}\n",
    "\n",
    "\n",
    "int get(Item* listptr, int index){\n",
    "    int ctr = 0;\n",
    "    Item* p;\n",
    "    for(p = listptr; p!= NULL; p = p->rest){\n",
    "        if (ctr==index){\n",
    "            return p->value;\n",
    "        }\n",
    "        ctr++;\n",
    "    }\n",
    "    return -1;\n",
    "}\n",
    "\n",
    "\n",
    "void free_all(Item* listptr) {\n",
    "    Item *p;\n",
    "    Item *next;\n",
    "    for(p = listptr; p!= NULL; p = next){\n",
    "        next = p->rest;\n",
    "        free(p);\n",
    "    }\n",
    "}\n",
    "\n",
    "int main(){\n",
    "    Item* listptr;\n",
    "    int i;\n",
    "    listptr = new_item(0);\n",
    "    for (i=1; i < 6; i++){\n",
    "        listptr=insert_front(listptr, i);\n",
    "    }\n",
    "    for (i=0; i < 6; i++){\n",
    "        printf(\"i %d Item %d\\n\", i, get(listptr, i));\n",
    "    }\n",
    "    listptr = remove_item(listptr, 3);\n",
    "    for (i=0; i <= 5; i++){\n",
    "        printf(\"i %d Item %d\\n\", i, get(listptr, i));\n",
    "    }\n",
    "    printf(\"Index for 3 %d\\n\", get_index(listptr, 3));\n",
    "    free_all(listptr);\n",
    "}"
   ]
  },
  {
   "cell_type": "code",
   "execution_count": 44,
   "metadata": {
    "collapsed": false
   },
   "outputs": [],
   "source": [
    "!gcc -o linked_list -g linked_list.c"
   ]
  },
  {
   "cell_type": "code",
   "execution_count": 45,
   "metadata": {
    "collapsed": false
   },
   "outputs": [
    {
     "name": "stdout",
     "output_type": "stream",
     "text": [
      "i 0 Item 5\r\n",
      "i 1 Item 4\r\n",
      "i 2 Item 3\r\n",
      "i 3 Item 2\r\n",
      "i 4 Item 1\r\n",
      "i 5 Item 0\r\n",
      "i 0 Item 5\r\n",
      "i 1 Item 4\r\n",
      "i 2 Item 2\r\n",
      "i 3 Item 1\r\n",
      "i 4 Item 0\r\n",
      "i 5 Item -1\r\n",
      "Index for 3 -1\r\n"
     ]
    }
   ],
   "source": [
    "!./linked_list"
   ]
  },
  {
   "cell_type": "code",
   "execution_count": null,
   "metadata": {
    "collapsed": true
   },
   "outputs": [],
   "source": []
  }
 ],
 "metadata": {
  "kernelspec": {
   "display_name": "Python 3",
   "language": "python",
   "name": "python3"
  },
  "language_info": {
   "codemirror_mode": {
    "name": "ipython",
    "version": 3
   },
   "file_extension": ".py",
   "mimetype": "text/x-python",
   "name": "python",
   "nbconvert_exporter": "python",
   "pygments_lexer": "ipython3",
   "version": "3.5.1"
  }
 },
 "nbformat": 4,
 "nbformat_minor": 0
}
