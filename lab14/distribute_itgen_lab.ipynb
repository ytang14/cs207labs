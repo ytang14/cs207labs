{
 "cells": [
  {
   "cell_type": "markdown",
   "metadata": {
    "collapsed": true
   },
   "source": [
    "## Q1.\n",
    "\n",
    "Add methods `__iter__` to your project Time Series class to iterate over values, a method `itertimes` to iterate over times, a method `itervalues` to iterate over values, and a method `iteritems` to iterate over time-value pairs. (This is a similar interface to python dictionaries). To test these, check both the types of the results and the answers you expect."
   ]
  },
  {
   "cell_type": "code",
   "execution_count": 1,
   "metadata": {
    "collapsed": false
   },
   "outputs": [],
   "source": [
    "import numpy as np\n",
    "from lazy import *\n",
    "class TimeSeries():\n",
    "    '''\n",
    "    \"\"\"\n",
    "Help on package TimeSeries:\n",
    "\n",
    "NAME\n",
    "    TimeSeries\n",
    "\n",
    "DESCRIPTION\n",
    "    TimeSeries\n",
    "    =====\n",
    "    \n",
    "    Provides\n",
    "      1. An sequence or any iterable objects\n",
    "    \n",
    "    How to use the documentation\n",
    "    ----------------------------\n",
    "    Documentation is available in two forms: docstrings provided\n",
    "    with the code, and a loose standing reference guide, available from\n",
    "    `the TimeSeries homepage <https://github.com/cs207-project>`_.\n",
    "    \n",
    "    We recommend exploring the docstrings using\n",
    "    `IPython <http://ipython.scipy.org>`_, an advanced Python shell with\n",
    "    TAB-completion and introspection capabilities.  See below for further\n",
    "    instructions.\n",
    "    \n",
    "    The docstring examples assume that `numpy` has been imported as `np`::  \n",
    "      \n",
    "    \n",
    "    \n",
    "     |  Methods inherited from builtins.RuntimeWarning:\n",
    "     |  \n",
    "     |  __init__(self, *args, **kwargs)\n",
    "     |      Initialize self.  See help(type(self)) for accurate signature.\n",
    "     |      Stors a TimeSeries in self.TimeSeries_\n",
    "     |    \n",
    "     |  __repr__(self, /)\n",
    "     |      Return a printable sequence shown in python list format containing all values in [self].\n",
    "     |  \n",
    "     |  __str__(self, /)\n",
    "     |      Return a printable abbreviated sequence of maximum first 100 entrees.\n",
    "     |  \n",
    "     |  __getitem__(self, index)\n",
    "     |      Return self[index]\n",
    "     |\n",
    "     |  __setitem__(self, index, values)\n",
    "     |      Set self[index] = values\n",
    "     |\n",
    "     |  __len__(self)\n",
    "     |      Return len(self.TimeSeries_)\n",
    "     Examples\n",
    "     --------\n",
    "     >>> a = TimeSeries(np.arange(0,100))\n",
    "     >>> len(a)\n",
    "     100\n",
    "     >>> a[2]\n",
    "     2\n",
    "     >>> a[2]=3\n",
    "     >>> a[2]\n",
    "     3\n",
    "    '''\n",
    "    def __init__(self, times, values):\n",
    "        if (iter(times) and iter(values)):\n",
    "            # reorder according to Time step\n",
    "            idx = np.argsort(times)\n",
    "            times = np.array(times)[idx]\n",
    "            values = np.array(values)[idx]\n",
    "\n",
    "            self._TimeSeries=np.vstack((times,values))\n",
    "            self._vindex = 0\n",
    "            self._values = self._TimeSeries[1]\n",
    "            self._times = self._TimeSeries[0]\n",
    "    \n",
    "    @property\n",
    "    @lazy\n",
    "    def lazy(self):\n",
    "        return self\n",
    "    def itervalues(self):\n",
    "        for v in self._values:\n",
    "            yield v\n",
    "    def itertimes(self):\n",
    "        for t in self._times:\n",
    "            yield t\n",
    "    def iteritemes(self):\n",
    "        for t,v in zip(self._times,self._values):\n",
    "            yield (t,v)\n",
    "    def __len__(self):\n",
    "        return len(self._TimeSeries[0])\n",
    "    \n",
    "    def __contains__(self, time):\n",
    "        index = np.where(self._TimeSeries[0]==time)\n",
    "        return index[0].size>0\n",
    "            \n",
    "    \n",
    "    def __getitem__(self,time):\n",
    "        if (time in self):\n",
    "            index = np.where(self._TimeSeries[0]==time)\n",
    "            return self._TimeSeries[1][index]\n",
    "        else:\n",
    "            print (\"no time point at t={0}\".format(time))\n",
    "\n",
    "    def __setitem__(self,time,value):\n",
    "        if (time in self):\n",
    "            index = np.where(self._TimeSeries[0]==time)\n",
    "            self._TimeSeries[1][index]=value\n",
    "        else:\n",
    "            print (\"no time point at t={0}\".format(time))\n",
    "            \n",
    "    def __iter__(self):\n",
    "        return iter(self._TimeSeries[1])\n",
    "    \n",
    "    def __repr__(self):\n",
    "        return \"%r\"%(self._TimeSeries)\n",
    "    \n",
    "    def __str__(self):\n",
    "        className = type(self).__name__\n",
    "        if len(self._TimeSeries)>100:\n",
    "            return \"%s\" %('['+(str(self._TimeSeries[:99]))[1:-1]+'...'+']')\n",
    "        else:\n",
    "            return \"%s\" %(self._TimeSeries)\n",
    "        \n",
    "    def __eq__(self, other):\n",
    "        return np.array_equal(self._TimeSeries, other._TimeSeries)\n",
    "        \n",
    "    def values(self):\n",
    "        return self._values\n",
    "    \n",
    "    def times(self):\n",
    "        return self._times\n",
    "    \n",
    "    def mean(self):        \n",
    "        if(len(self._values) == 0):\n",
    "            raise ValueError(\"cant calculate mean of length 0 list\")\n",
    "        return np.mean(self._values)\n",
    "    \n",
    "    def median(self):\n",
    "        if(len(self._values) == 0):\n",
    "            raise ValueError(\"cant calculate median of length 0 list\")\n",
    "        return np.median(self._values)\n",
    "    \n",
    "    def interpolate(self, times):\n",
    "        new_values = []\n",
    "        for time in times:\n",
    "            if time > self._times[-1]: # over the rightest boundary\n",
    "                new_values.append(self._values[-1])\n",
    "            elif time < self._times[0]: # over the leftest boundary\n",
    "                new_values.append(self._values[0])\n",
    "            elif time in self._times:\n",
    "                new_values.append(self.__getitem__(time))\n",
    "            else : #within boundary\n",
    "                for i in range(len(self._times)):\n",
    "                    if self._times[i] > time:\n",
    "                        left_value = self._values[i-1]\n",
    "                        right_value = self._values[i]\n",
    "                        left_time = self._times[i-1]\n",
    "                        right_time = self._times[i]\n",
    "                        #interpolate\n",
    "                        new_values.append(left_value + (right_value - left_value)/(right_time - left_time)*(time - left_time))\n",
    "                        break\n",
    "        return TimeSeries(times, new_values)\n"
   ]
  },
  {
   "cell_type": "code",
   "execution_count": 12,
   "metadata": {
    "collapsed": false
   },
   "outputs": [
    {
     "data": {
      "text/plain": [
       "True"
      ]
     },
     "execution_count": 12,
     "metadata": {},
     "output_type": "execute_result"
    }
   ],
   "source": [
    "a = TimeSeries([],[])\n",
    "a.itervalues()\n",
    "import collections\n",
    "list(a.itervalues())\n",
    "list(a.iteritemes())\n",
    "isinstance(list(a.iteritemes()),collections.Iterable)"
   ]
  },
  {
   "cell_type": "markdown",
   "metadata": {},
   "source": [
    "## Q2.\n",
    "\n",
    "An online mean and standard deviation algorithm.\n",
    "\n",
    "Below is a function to generate a potentially infinite stream of 1-D data."
   ]
  },
  {
   "cell_type": "code",
   "execution_count": 3,
   "metadata": {
    "collapsed": false
   },
   "outputs": [],
   "source": [
    "from random import normalvariate, random\n",
    "from itertools import count\n",
    "def make_data(m, stop=None):\n",
    "    for _ in count():\n",
    "        if stop and _ > stop:\n",
    "            break\n",
    "        yield 1.0e09 + normalvariate(0, m*random() )\n",
    "        "
   ]
  },
  {
   "cell_type": "markdown",
   "metadata": {},
   "source": [
    "Here is an implementation of an online mean algorithm..see http://www.johndcook.com/blog/standard_deviation/ and the link to http://www.johndcook.com/blog/2008/09/26/comparing-three-methods-of-computing-standard-deviation/ in-between. (Convince yourselves of the formulas...)"
   ]
  },
  {
   "cell_type": "code",
   "execution_count": 4,
   "metadata": {
    "collapsed": true
   },
   "outputs": [],
   "source": [
    "def online_mean(iterator):\n",
    "    n = 0\n",
    "    mu = 0\n",
    "    for value in iterator:\n",
    "        n += 1\n",
    "        delta = value - mu\n",
    "        mu = mu + delta/n\n",
    "        yield mu"
   ]
  },
  {
   "cell_type": "markdown",
   "metadata": {},
   "source": [
    "We use out generator functions to implement iterators:"
   ]
  },
  {
   "cell_type": "code",
   "execution_count": 5,
   "metadata": {
    "collapsed": false
   },
   "outputs": [
    {
     "data": {
      "text/plain": [
       "<generator object make_data at 0x107534938>"
      ]
     },
     "execution_count": 5,
     "metadata": {},
     "output_type": "execute_result"
    }
   ],
   "source": [
    "g = make_data(5, 10)\n",
    "(g)"
   ]
  },
  {
   "cell_type": "code",
   "execution_count": 6,
   "metadata": {
    "collapsed": false
   },
   "outputs": [
    {
     "data": {
      "text/plain": [
       "[999999998.569577,\n",
       " 999999998.9547269,\n",
       " 999999998.5693382,\n",
       " 999999998.9681697,\n",
       " 999999999.0351012,\n",
       " 999999998.9440804,\n",
       " 999999999.1586812,\n",
       " 999999999.547137,\n",
       " 999999999.394719,\n",
       " 999999999.4517989,\n",
       " 999999999.0886197,\n",
       " 999999999.3127072,\n",
       " 999999999.4174309,\n",
       " 999999999.7032504,\n",
       " 999999999.8133506,\n",
       " 999999999.9172896,\n",
       " 1000000000.1188653,\n",
       " 1000000000.0920857,\n",
       " 1000000000.1420126,\n",
       " 1000000000.1932214,\n",
       " 1000000000.2142547,\n",
       " 1000000000.0615169,\n",
       " 999999999.8423303,\n",
       " 999999999.7980988,\n",
       " 1000000000.0519217,\n",
       " 1000000000.2908087,\n",
       " 1000000000.2800788,\n",
       " 1000000000.274911,\n",
       " 1000000000.1384115,\n",
       " 1000000000.1494014,\n",
       " 1000000000.1448034,\n",
       " 1000000000.0558128,\n",
       " 999999999.9906037,\n",
       " 1000000000.1155831,\n",
       " 1000000000.0226128,\n",
       " 1000000000.0231346,\n",
       " 1000000000.15749,\n",
       " 1000000000.173452,\n",
       " 1000000000.1709545,\n",
       " 1000000000.1197692,\n",
       " 1000000000.1161027,\n",
       " 1000000000.1166652,\n",
       " 1000000000.2381734,\n",
       " 1000000000.3513114,\n",
       " 1000000000.2462964,\n",
       " 1000000000.1712711,\n",
       " 1000000000.1141527,\n",
       " 1000000000.1342933,\n",
       " 1000000000.2129476,\n",
       " 1000000000.1897172,\n",
       " 1000000000.0056572,\n",
       " 1000000000.0650542,\n",
       " 1000000000.0797476,\n",
       " 1000000000.0710047,\n",
       " 1000000000.0532218,\n",
       " 1000000000.1283067,\n",
       " 1000000000.0386356,\n",
       " 1000000000.0696908,\n",
       " 999999999.9239326,\n",
       " 999999999.8965037,\n",
       " 999999999.8831064,\n",
       " 999999999.8827116,\n",
       " 999999999.8195596,\n",
       " 999999999.8966199,\n",
       " 999999999.8796483,\n",
       " 999999999.9899775,\n",
       " 999999999.9907709,\n",
       " 999999999.9560012,\n",
       " 999999999.9576652,\n",
       " 999999999.9307146,\n",
       " 999999999.8859653,\n",
       " 999999999.8988992,\n",
       " 999999999.8899493,\n",
       " 999999999.8080966,\n",
       " 999999999.804319,\n",
       " 999999999.9562211,\n",
       " 999999999.9314817,\n",
       " 999999999.9280121,\n",
       " 999999999.9284099,\n",
       " 999999999.9181792,\n",
       " 999999999.945983,\n",
       " 999999999.9671361,\n",
       " 1000000000.0183275,\n",
       " 999999999.990589,\n",
       " 999999999.9863893,\n",
       " 1000000000.0062412,\n",
       " 1000000000.0110074,\n",
       " 1000000000.0203857,\n",
       " 999999999.9123355,\n",
       " 999999999.9462126,\n",
       " 999999999.9490356,\n",
       " 999999999.9721,\n",
       " 999999999.8759664,\n",
       " 999999999.9116678,\n",
       " 999999999.9216226,\n",
       " 999999999.843544,\n",
       " 999999999.855779,\n",
       " 999999999.8587689,\n",
       " 999999999.8099059,\n",
       " 999999999.8125036,\n",
       " 999999999.7568778]"
      ]
     },
     "execution_count": 6,
     "metadata": {},
     "output_type": "execute_result"
    }
   ],
   "source": [
    "g = online_mean(make_data(5, 100))\n",
    "#print(type(g))\n",
    "list(g)"
   ]
  },
  {
   "cell_type": "markdown",
   "metadata": {},
   "source": [
    "### 2.1\n",
    "\n",
    "Implement the standard deviation algorithm as a generator function as\n",
    "\n",
    "```python\n",
    "def online_mean_dev(iterator):\n",
    "    BLA BLA\n",
    "    if n > 1:\n",
    "        stddev = math.sqrt(dev_accum/(n-1))\n",
    "        yield (n, value, mu, stddev)\n",
    "```"
   ]
  },
  {
   "cell_type": "code",
   "execution_count": 9,
   "metadata": {
    "collapsed": false
   },
   "outputs": [],
   "source": [
    "# your code here\n",
    "import math\n",
    "def online_mean_dev(iterator):\n",
    "    n = 0\n",
    "    mu = 0\n",
    "    dev_accum = 0\n",
    "    for value in iterator:\n",
    "        n+=1\n",
    "        delta = value - mu\n",
    "        delta_dev1 = value - mu\n",
    "        mu = mu + delta/n\n",
    "        delta_dev2 = value - mu\n",
    "        if n > 1:\n",
    "            dev_accum += delta_dev1*delta_dev2\n",
    "            stddev = math.sqrt(dev_accum/(n-1))\n",
    "            yield (n, value, mu, stddev)\n",
    "        #yield (n,value,mu,0)"
   ]
  },
  {
   "cell_type": "markdown",
   "metadata": {},
   "source": [
    "Here we make 100000 element data, and run this iterator on it (imagine running this on a time-series being slowly read from disk"
   ]
  },
  {
   "cell_type": "code",
   "execution_count": 14,
   "metadata": {
    "collapsed": false
   },
   "outputs": [],
   "source": [
    "data_with_stats = online_mean_dev(make_data(5, 100))\n"
   ]
  },
  {
   "cell_type": "markdown",
   "metadata": {},
   "source": [
    "## Q3.\n",
    "\n",
    "Let's do Anomaly detection. Write a routine `is_ok`:\n",
    "\n",
    "```python\n",
    "def is_ok(level, t)\n",
    "```\n",
    "\n",
    "which takes a tuple like the one yielded by your code above and returns True if the value is inbetween `level`-$\\sigma$ of the mean."
   ]
  },
  {
   "cell_type": "code",
   "execution_count": 9,
   "metadata": {
    "collapsed": true
   },
   "outputs": [],
   "source": [
    "def is_ok(level,t):\n",
    "    dist = level-t[3]\n",
    "    if ((t[1]<t[2]+dist) and (t[1]>t[2]-dist)):\n",
    "        return True\n",
    "    return False\n",
    "    "
   ]
  },
  {
   "cell_type": "markdown",
   "metadata": {},
   "source": [
    "We use this function to create a predicate passed through to `itertools.filterfalse` which is then used to obtain an iterator on the anomalies."
   ]
  },
  {
   "cell_type": "code",
   "execution_count": 10,
   "metadata": {
    "collapsed": true
   },
   "outputs": [],
   "source": [
    "from itertools import filterfalse\n",
    "pred = lambda t: is_ok(5, t)\n",
    "anomalies = filterfalse(pred, data_with_stats)"
   ]
  },
  {
   "cell_type": "markdown",
   "metadata": {},
   "source": [
    "We materialize the anomalies..."
   ]
  },
  {
   "cell_type": "code",
   "execution_count": 11,
   "metadata": {
    "collapsed": false
   },
   "outputs": [
    {
     "data": {
      "text/plain": [
       "[(2, 999999999.6905417, 999999996.1809835, 4.963264763413398),\n",
       " (3, 999999999.7704003, 999999997.3774558, 4.075737479432299),\n",
       " (6, 1000000000.3518113, 999999997.9800653, 3.0237570341120765),\n",
       " (8, 1000000002.1813898, 999999998.6387855, 2.9528901010830517),\n",
       " (9, 999999993.8537444, 999999998.1071142, 3.189621234625334),\n",
       " (11, 1000000004.1299673, 999999998.6720132, 3.379208551823878),\n",
       " (14, 999999989.1900831, 999999998.1070923, 3.9323468997906876),\n",
       " (15, 999999994.4971915, 999999997.8664322, 3.902253945918048),\n",
       " (16, 1000000002.6290523, 999999998.164096, 3.9534886916206267),\n",
       " (17, 1000000001.63816, 999999998.3684527, 3.9195843608998953),\n",
       " (22, 999999996.0858971, 999999998.3427336, 3.486155259483629),\n",
       " (23, 999999994.7125949, 999999998.1849015, 3.489098627728195),\n",
       " (24, 1000000001.6217804, 999999998.3281047, 3.4837746120621333),\n",
       " (25, 1000000002.6597905, 999999998.5013722, 3.518739884590559),\n",
       " (27, 999999994.3767586, 999999998.3756804, 3.476718581806754),\n",
       " (31, 999999994.4960095, 999999998.3592036, 3.3327199275839443),\n",
       " (32, 1000000007.440403, 999999998.6429911, 3.650460489622857),\n",
       " (36, 1000000002.054608, 999999998.7846266, 3.504533900295778),\n",
       " (38, 1000000000.7992558, 999999998.8643928, 3.4276763650378843),\n",
       " (39, 1000000001.7013594, 999999998.9371355, 3.4126457008191644),\n",
       " (41, 1000000001.2662627, 999999998.9890898, 3.346294554452138),\n",
       " (44, 999999996.9512477, 999999998.9874834, 3.2502143606709364),\n",
       " (45, 1000000004.3654029, 999999999.1069927, 3.311573104992987),\n",
       " (48, 1000000003.4325366, 999999999.1781441, 3.267030064210895),\n",
       " (50, 999999995.7946858, 999999999.1279213, 3.237964965455995),\n",
       " (53, 999999995.1235219, 999999999.0343237, 3.1919446501143955),\n",
       " (61, 1000000007.9405242, 999999999.2680715, 3.192125571657179),\n",
       " (62, 999999997.1803242, 999999999.2343982, 3.176936165904718),\n",
       " (69, 1000000003.0378841, 999999999.2903447, 3.056618782091664),\n",
       " (73, 999999996.9716938, 999999999.2595626, 2.9857465414917614),\n",
       " (79, 1000000002.000141, 999999999.3304881, 2.8968502048823397),\n",
       " (82, 1000000003.1189831, 999999999.4215534, 2.8868015070338964),\n",
       " (84, 1000000003.7375622, 999999999.4704933, 2.890558473137956),\n",
       " (87, 1000000001.7388519, 999999999.4880176, 2.8588142957792457),\n",
       " (89, 1000000002.5692437, 999999999.5247797, 2.8449965143765175),\n",
       " (92, 999999997.0842656, 999999999.5131735, 2.8126197957325667),\n",
       " (93, 999999995.0424335, 999999999.465101, 2.835447470315612),\n",
       " (98, 1000000003.4758909, 999999999.4917235, 2.7937580325600706),\n",
       " (101, 1000000006.8191067, 999999999.5749718, 2.8486784033327273)]"
      ]
     },
     "execution_count": 11,
     "metadata": {},
     "output_type": "execute_result"
    }
   ],
   "source": [
    "list(anomalies)#materialize"
   ]
  },
  {
   "cell_type": "markdown",
   "metadata": {},
   "source": [
    "## To think of, but not hand in\n",
    "\n",
    "What kinds of anomalies will this algorithm pick up? What kinds would a shorter \"window\" of anomaly detection, like 100 points around the time in question pick? How might you create an algorithm which does window based averaging? (hint: the window size is small compared to the time series size). \n",
    "\n",
    "Finally think a bit of how you might implement all of this in a production environment..remember that data streaming in might get backed up when you handle an anomaly.\n",
    "\n",
    "(Some inspiration might accrue if you look at the docs for `collections.deque`)."
   ]
  },
  {
   "cell_type": "code",
   "execution_count": null,
   "metadata": {
    "collapsed": true
   },
   "outputs": [],
   "source": []
  }
 ],
 "metadata": {
  "kernelspec": {
   "display_name": "Python 3",
   "language": "python",
   "name": "python3"
  },
  "language_info": {
   "codemirror_mode": {
    "name": "ipython",
    "version": 3
   },
   "file_extension": ".py",
   "mimetype": "text/x-python",
   "name": "python",
   "nbconvert_exporter": "python",
   "pygments_lexer": "ipython3",
   "version": "3.5.1"
  }
 },
 "nbformat": 4,
 "nbformat_minor": 0
}
