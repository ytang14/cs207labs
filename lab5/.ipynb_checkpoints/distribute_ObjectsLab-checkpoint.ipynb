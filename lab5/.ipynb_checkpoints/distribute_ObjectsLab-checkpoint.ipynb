{
 "cells": [
  {
   "cell_type": "markdown",
   "metadata": {},
   "source": [
    "# The Objects Lab"
   ]
  },
  {
   "cell_type": "markdown",
   "metadata": {},
   "source": [
    "###   `__repr__`  vs  `__str__`\n",
    "\n",
    "The way printing works is that Python wants classes to implement a `__repr__` and a `__str__` method. It will use inheritance to give the built-in `object`'s methods when these are not defined...but any class can define these. When an *instance* of such a class is interrogated with the `repr` or `str` function, then these underlying methods are called.\n",
    "\n",
    "Rules used (see http://stackoverflow.com/questions/1436703/difference-between-str-and-repr-in-python):\n",
    "\n",
    "- if you override `__repr__`, that's ALSO used for `__str__`, but not vice versa\n",
    "- `__str__` on a built-on container uses the contained objects `__repr__`\n",
    "\n",
    "Some advice on thisI found useful:\n",
    "\n",
    "- From Alex Martelli: \n",
    ">So, my advice: focus on making __str__ reasonably human-readable, and __repr__ as unambiguous as you possibly can.\n",
    "\n",
    "From SO:\n",
    ">This means, in simple terms: almost every object you implement should have a functional __repr__ that’s usable for understanding the object. Implementing __str__ is optional: do that if you need a “pretty print” functionality\n",
    "\n",
    "Usually people will have the repr print out a constructor form. Ned Batchelder:\n",
    ">My rule of thumb:  __repr__ is for developers, __str__ is for customers.\n",
    "\n"
   ]
  },
  {
   "cell_type": "markdown",
   "metadata": {},
   "source": [
    "### 1. `__str__`\n",
    "\n",
    "Implement `__str__` for `class Animal` below to simply print \"Animal Jane\" for an Animal with name Jane. Keep your code as general as possible."
   ]
  },
  {
   "cell_type": "code",
   "execution_count": 94,
   "metadata": {
    "collapsed": true
   },
   "outputs": [],
   "source": [
    "class Animal():\n",
    "    \n",
    "    def __init__(self, name):\n",
    "        self.name=name\n",
    "\n",
    "    def __repr__(self):\n",
    "        class_name = type(self).__name__\n",
    "        return \"%s(name=%r)\" % (class_name, self.name)\n",
    "    def __str__(self):\n",
    "        return \"%s %s\" %(type(self).__name__,self.name)\n",
    "    #your code here\n"
   ]
  },
  {
   "cell_type": "code",
   "execution_count": 95,
   "metadata": {
    "collapsed": true
   },
   "outputs": [],
   "source": [
    "A=Animal(\"Tom\")\n",
    "B=Animal(\"Jane\")"
   ]
  },
  {
   "cell_type": "code",
   "execution_count": 96,
   "metadata": {
    "collapsed": false
   },
   "outputs": [
    {
     "data": {
      "text/plain": [
       "Animal(name='Jane')"
      ]
     },
     "execution_count": 96,
     "metadata": {},
     "output_type": "execute_result"
    }
   ],
   "source": [
    "B#the ipython REPL uses __repr__ even if __str__ is defined"
   ]
  },
  {
   "cell_type": "code",
   "execution_count": 97,
   "metadata": {
    "collapsed": false
   },
   "outputs": [
    {
     "name": "stdout",
     "output_type": "stream",
     "text": [
      "Animal Jane\n"
     ]
    }
   ],
   "source": [
    "print(B)#printing uses __str__"
   ]
  },
  {
   "cell_type": "code",
   "execution_count": 98,
   "metadata": {
    "collapsed": false
   },
   "outputs": [
    {
     "name": "stdout",
     "output_type": "stream",
     "text": [
      "Animal Jane\n",
      "Animal(name='Jane')\n"
     ]
    }
   ],
   "source": [
    "print(str(B)) # uses __str__\n",
    "print(repr(B)) # uses __repr__"
   ]
  },
  {
   "cell_type": "markdown",
   "metadata": {},
   "source": [
    "Notice that printing things in a list uses the item's `__repr__`:"
   ]
  },
  {
   "cell_type": "code",
   "execution_count": 99,
   "metadata": {
    "collapsed": false
   },
   "outputs": [
    {
     "name": "stdout",
     "output_type": "stream",
     "text": [
      "[Animal(name='Tom'), Animal(name='Jane')]\n"
     ]
    }
   ],
   "source": [
    "print([A, B])"
   ]
  },
  {
   "cell_type": "code",
   "execution_count": 100,
   "metadata": {
    "collapsed": true
   },
   "outputs": [],
   "source": [
    "import reprlib #reprlib.repr provides small size representations of object strings"
   ]
  },
  {
   "cell_type": "code",
   "execution_count": 101,
   "metadata": {
    "collapsed": false
   },
   "outputs": [
    {
     "data": {
      "text/plain": [
       "\"[Animal(name='Tom'), Animal(name='Tom'), Animal(name='Tom'), Animal(name='Tom'), Animal(name='Tom'), Animal(name='Tom'), ...]\""
      ]
     },
     "execution_count": 101,
     "metadata": {},
     "output_type": "execute_result"
    }
   ],
   "source": [
    "reprlib.repr([A]*50)"
   ]
  },
  {
   "cell_type": "markdown",
   "metadata": {},
   "source": [
    "### Properties, Descriptors, and Setters\n",
    "\n",
    "Our earlier `ComplexClass` gave direct access to both the `real` and `imaginary` parts of the complex number. But lets say we wanted to build a strange complex number which did not allow you to change the imaginary part of a complex number. We then use properties to \"encapsulate\" the actual values of the complex number. There is a `@property` decorator that does this for us. Its actually instantiates a class for us which is something called a `descriptor`, but that too is a story for later. Currently we just treat it as a black box."
   ]
  },
  {
   "cell_type": "code",
   "execution_count": 102,
   "metadata": {
    "collapsed": true
   },
   "outputs": [],
   "source": [
    "class ComplexClass():\n",
    "    \n",
    "    def __init__(self, a, b):\n",
    "        self.__real = a\n",
    "        self.__imaginary = b\n",
    "    \n",
    "    def __repr__(self):\n",
    "        class_name = type(self).__name__\n",
    "        return \"%s(real=%r, imaginary=%r)\" % (class_name, self.__real, self.__imaginary)\n",
    "        \n",
    "    @property\n",
    "    def real(self):\n",
    "        return self.__real\n",
    "    \n",
    "    @real.setter\n",
    "    def real(self, value=None):\n",
    "        if value:\n",
    "            self.__real=value\n",
    "            \n",
    "    @property\n",
    "    def imaginary(self):\n",
    "        return self.__imaginary\n",
    "    "
   ]
  },
  {
   "cell_type": "code",
   "execution_count": 103,
   "metadata": {
    "collapsed": false
   },
   "outputs": [
    {
     "name": "stdout",
     "output_type": "stream",
     "text": [
      "ComplexClass(real=1, imaginary=2)\n"
     ]
    }
   ],
   "source": [
    "c1 = ComplexClass(1,2)\n",
    "c1.real, c1.imaginary\n",
    "print(c1)"
   ]
  },
  {
   "cell_type": "markdown",
   "metadata": {},
   "source": [
    "Notice that I can change the value of the real part and make it read-only"
   ]
  },
  {
   "cell_type": "code",
   "execution_count": 104,
   "metadata": {
    "collapsed": false
   },
   "outputs": [
    {
     "data": {
      "text/plain": [
       "ComplexClass(real=5, imaginary=2)"
      ]
     },
     "execution_count": 104,
     "metadata": {},
     "output_type": "execute_result"
    }
   ],
   "source": [
    "c1.real = 5\n",
    "c1"
   ]
  },
  {
   "cell_type": "markdown",
   "metadata": {},
   "source": [
    "But I cannot change the value of the imaginary part"
   ]
  },
  {
   "cell_type": "code",
   "execution_count": 105,
   "metadata": {
    "collapsed": false
   },
   "outputs": [
    {
     "ename": "AttributeError",
     "evalue": "can't set attribute",
     "output_type": "error",
     "traceback": [
      "\u001b[0;31m---------------------------------------------------------------------------\u001b[0m",
      "\u001b[0;31mAttributeError\u001b[0m                            Traceback (most recent call last)",
      "\u001b[0;32m<ipython-input-105-57b57c76fb71>\u001b[0m in \u001b[0;36m<module>\u001b[0;34m()\u001b[0m\n\u001b[0;32m----> 1\u001b[0;31m \u001b[0mc1\u001b[0m\u001b[0;34m.\u001b[0m\u001b[0mimaginary\u001b[0m \u001b[0;34m=\u001b[0m \u001b[0;36m3\u001b[0m\u001b[0;34m\u001b[0m\u001b[0m\n\u001b[0m",
      "\u001b[0;31mAttributeError\u001b[0m: can't set attribute"
     ]
    }
   ],
   "source": [
    "c1.imaginary = 3"
   ]
  },
  {
   "cell_type": "markdown",
   "metadata": {},
   "source": [
    "### Q2. Add a class method\n",
    "\n",
    "Implement a class method `make_complex` that takes two arguments and constructs a complex number for us. Rewrite the class definition above with this method.\n",
    "\n",
    "Also add a `__str__` method to print out complex numbers in the usual form `1+2i`.\n",
    "\n",
    "Test (informally) that both your methods work."
   ]
  },
  {
   "cell_type": "code",
   "execution_count": 106,
   "metadata": {
    "collapsed": true
   },
   "outputs": [],
   "source": [
    "#your code here\n",
    "class ComplexClass():\n",
    "    \n",
    "    def __init__(self, a, b):\n",
    "        self.__real = a\n",
    "        self.__imaginary = b\n",
    "    \n",
    "    def __repr__(self):\n",
    "        class_name = type(self).__name__\n",
    "        return \"%s(real=%r, imaginary=%r)\" % (class_name, self.__real, self.__imaginary)\n",
    "    def __str__(self):\n",
    "        return \"%s + %si\" % (self.__real,self.__imaginary)\n",
    "   \n",
    "    @classmethod\n",
    "    def make_complex(cls,value1 = None, value2=None):\n",
    "        if value1 and value2:\n",
    "            return cls(value1,value2)\n",
    "    \n"
   ]
  },
  {
   "cell_type": "code",
   "execution_count": 107,
   "metadata": {
    "collapsed": false
   },
   "outputs": [
    {
     "name": "stdout",
     "output_type": "stream",
     "text": [
      "1 + 2i\n"
     ]
    }
   ],
   "source": [
    "# your code here\n",
    "# To test the __str__ method works\n",
    "c2 = ComplexClass(1,2)\n",
    "print(c2)\n"
   ]
  },
  {
   "cell_type": "code",
   "execution_count": 108,
   "metadata": {
    "collapsed": false
   },
   "outputs": [
    {
     "name": "stdout",
     "output_type": "stream",
     "text": [
      "2 + 3i\n"
     ]
    }
   ],
   "source": [
    "# your code here\n",
    "# To Test that my @classmethod works#\n",
    "c3=c2.make_complex(2,3)\n",
    "print(c3)"
   ]
  },
  {
   "cell_type": "markdown",
   "metadata": {},
   "source": [
    "Notice that python marginally obfuscates variables with two leading underscores. But where are our properties?"
   ]
  },
  {
   "cell_type": "code",
   "execution_count": 109,
   "metadata": {
    "collapsed": false
   },
   "outputs": [
    {
     "data": {
      "text/plain": [
       "{'_ComplexClass__imaginary': 2, '_ComplexClass__real': 5}"
      ]
     },
     "execution_count": 109,
     "metadata": {},
     "output_type": "execute_result"
    }
   ],
   "source": [
    "vars(c1)"
   ]
  },
  {
   "cell_type": "markdown",
   "metadata": {},
   "source": [
    "This tells us a bit about lookup with properties. When you do instance.attribute for something marked as a property, it is first looked up in instance.__class__ and only then in the instance specific dictionary. "
   ]
  },
  {
   "cell_type": "code",
   "execution_count": 110,
   "metadata": {
    "collapsed": false
   },
   "outputs": [
    {
     "data": {
      "text/plain": [
       "mappingproxy({'imaginary': <property object at 0x108edeae8>, '__repr__': <function ComplexClass.__repr__ at 0x108e96268>, '__dict__': <attribute '__dict__' of 'ComplexClass' objects>, '__module__': '__main__', '__weakref__': <attribute '__weakref__' of 'ComplexClass' objects>, '__init__': <function ComplexClass.__init__ at 0x108e962f0>, '__doc__': None, 'real': <property object at 0x108ede408>})"
      ]
     },
     "execution_count": 110,
     "metadata": {},
     "output_type": "execute_result"
    }
   ],
   "source": [
    "vars(type(c1))\n"
   ]
  },
  {
   "cell_type": "markdown",
   "metadata": {},
   "source": [
    "The usual way in Python is exactly the reverse, a variable called as `self.x` is first looked up in the instance dictionary, and only then in the class dictionary."
   ]
  },
  {
   "cell_type": "markdown",
   "metadata": {},
   "source": [
    "### A sequence for light curves"
   ]
  },
  {
   "cell_type": "code",
   "execution_count": 111,
   "metadata": {
    "collapsed": false
   },
   "outputs": [
    {
     "name": "stdout",
     "output_type": "stream",
     "text": [
      "#Field Tile Seq RA(hour) Dec(deg) Filter mean_Mag med_Mag mean_(B-R) med_(B-R)\r\n",
      "#1 3441 15 5.03111 -69.3896 B -9.765 -9.748 0.219 0.243\r\n",
      "#MJD Mag Err\r\n",
      "48823.477419 -9.332 0.012\r\n",
      "48823.487014 -9.396 0.01\r\n"
     ]
    }
   ],
   "source": [
    "!head -5 ./data/CEPH/lc_1.3441.15.B.mjd"
   ]
  },
  {
   "cell_type": "code",
   "execution_count": 112,
   "metadata": {
    "collapsed": true
   },
   "outputs": [],
   "source": [
    "def lc_reader(filename):\n",
    "    lclist=[]\n",
    "    with open(filename) as fp:\n",
    "        for line in fp:\n",
    "            if line.find('#')!=0:\n",
    "                lclist.append([float(f) for f in line.strip().split()])\n",
    "    return lclist\n",
    "                "
   ]
  },
  {
   "cell_type": "code",
   "execution_count": 113,
   "metadata": {
    "collapsed": false
   },
   "outputs": [
    {
     "data": {
      "text/plain": [
       "1233"
      ]
     },
     "execution_count": 113,
     "metadata": {},
     "output_type": "execute_result"
    }
   ],
   "source": [
    "eg = lc_reader(\"./data/CEPH/lc_1.3441.15.B.mjd\")\n",
    "len(eg)"
   ]
  },
  {
   "cell_type": "code",
   "execution_count": 114,
   "metadata": {
    "collapsed": false
   },
   "outputs": [
    {
     "data": {
      "image/png": "[encoded data removed]",
      "text/plain": [
       "<matplotlib.figure.Figure at 0x108e4c5f8>"
      ]
     },
     "metadata": {},
     "output_type": "display_data"
    }
   ],
   "source": [
    "%matplotlib inline\n",
    "import matplotlib.pyplot as plt\n",
    "plt.figure(figsize=(12,4))\n",
    "plt.plot([x[0] for x in eg], [x[1] for x in eg],'.');"
   ]
  },
  {
   "cell_type": "markdown",
   "metadata": {},
   "source": [
    "### Q3. Reader with metadata\n",
    "\n",
    "The first two lines of the file, after the `#` have facet names and facet values. These are in the same order and space separated. Change `lc_reader` ro parse these lines as well, returning both the list we had earlier, and a second dictionary of facetnames and facetvalues."
   ]
  },
  {
   "cell_type": "code",
   "execution_count": 115,
   "metadata": {
    "collapsed": false
   },
   "outputs": [
    {
     "data": {
      "text/plain": [
       "1233"
      ]
     },
     "execution_count": 115,
     "metadata": {},
     "output_type": "execute_result"
    }
   ],
   "source": [
    "# your code here\n",
    "def lc_reader(filename):\n",
    "    lclist=[]\n",
    "    lcdict = {}\n",
    "    i=0\n",
    "    facetnames = []\n",
    "    facetvalues = []\n",
    "    with open(filename) as fp:\n",
    "        for line in fp:\n",
    "            #print(line)\n",
    "            i+=1\n",
    "            #if i>2:\n",
    "             #   break\n",
    "            if line.find('#')!=0:\n",
    "                lclist.append([float(f) for f in line.strip().split()])\n",
    "            else:\n",
    "                if i == 1:\n",
    "                    facetnames = (line.strip().split())\n",
    "                    #print(facetnames)\n",
    "                if i ==2:\n",
    "                    facetvalues = (line.strip().split())\n",
    "                    #print(facetvalues)\n",
    "    facetnames[0] = facetnames[0][1:]\n",
    "    facetvalues[0] = facetvalues[0][1:]\n",
    "    #print (facetnames)\n",
    "    #print (facetvalues)\n",
    "    return lclist,dict(zip(facetnames,facetvalues))\n",
    "eg,eg2 = lc_reader(\"./data/CEPH/lc_1.3441.15.B.mjd\") \n",
    "len(eg)\n"
   ]
  },
  {
   "cell_type": "markdown",
   "metadata": {},
   "source": [
    "We use your definition above to write a `LightCurve` class with a class method that reads the light curve from a file. \n",
    "\n",
    "### Q4. A Light Curve Class with properties\n",
    "\n",
    "Since data in a light-curve is read-once, we use properties to prevent any changes to the data. Add to the light curve class below read-only properties `time`, `amplitude` which correspond to `_time` and `_amplitude`, and also a read-only property `timeseries` which zips these together. Notice how `self.timeseries` is used in `__repr__` below. "
   ]
  },
  {
   "cell_type": "code",
   "execution_count": 116,
   "metadata": {
    "collapsed": false
   },
   "outputs": [],
   "source": [
    "import itertools\n",
    "class LightCurve:\n",
    "    \n",
    "    def __init__(self, data, metadict):\n",
    "        self._time = [x[0] for x in data]\n",
    "        self._amplitude = [x[1] for x in data]\n",
    "        self._error = [x[2] for x in data]\n",
    "        self._timeseries = list(zip(self._time, self._amplitude))\n",
    "        self.metadata = metadict\n",
    "        self.filename = None\n",
    "    \n",
    "    @classmethod\n",
    "    def from_file(cls, filename):\n",
    "        lclist, metadict = lc_reader(filename)\n",
    "        instance = cls(lclist, metadict)\n",
    "        instance.filename = filename\n",
    "        return instance\n",
    "    \n",
    "    def __repr__(self):\n",
    "        class_name = type(self).__name__\n",
    "        components = reprlib.repr(list(itertools.islice(self.timeseries,0,10)))\n",
    "        components = components[components.find('['):]\n",
    "        return '{}({})'.format(class_name, components)      \n",
    "    @property\n",
    "    def time(self):\n",
    "        return self._time\n",
    "    @property\n",
    "    def amplitude(self):\n",
    "        return self._amplitude\n",
    "    @property\n",
    "    def timeseries(self):\n",
    "        return self._timeseries\n",
    "    def __len__(self):\n",
    "        return len(self.timeseries)\n",
    "    def __getitem__(self,position):\n",
    "        return self.timeseries[position]"
   ]
  },
  {
   "cell_type": "code",
   "execution_count": 117,
   "metadata": {
    "collapsed": false
   },
   "outputs": [
    {
     "data": {
      "text/plain": [
       "(48824.458206, -9.333)"
      ]
     },
     "execution_count": 117,
     "metadata": {},
     "output_type": "execute_result"
    }
   ],
   "source": [
    "l = LightCurve.from_file(\"./data/CEPH/lc_1.3441.15.B.mjd\")\n",
    "l\n",
    "l[3]"
   ]
  },
  {
   "cell_type": "markdown",
   "metadata": {},
   "source": [
    "### Q5. Make LightCurve a sequence\n",
    "\n",
    "But our Lightcurves class is not a sequence yet! It implements none of the sequence protocol. The `__repr__` above makes it look like one, but its your job to make it one! (Hint: dont change the O-complexity behavior of indexing)"
   ]
  },
  {
   "cell_type": "code",
   "execution_count": 118,
   "metadata": {
    "collapsed": false
   },
   "outputs": [
    {
     "name": "stdout",
     "output_type": "stream",
     "text": [
      "(48823.477419, -9.332)\n",
      "(48823.487014, -9.396)\n",
      "(48823.496759, -9.358)\n",
      "(48824.458206, -9.333)\n",
      "(48824.467697, -9.333)\n",
      "(48824.477639, -9.349)\n",
      "(48825.483183, -9.588)\n",
      "(48825.492847, -9.592)\n",
      "(48825.502824, -9.581)\n",
      "(48826.46463, -9.908)\n",
      "(48826.491319, -9.921)\n",
      "(48828.585961, -10.257)\n",
      "(48828.656701, -10.266)\n",
      "(48829.456285, -10.119)\n",
      "(48829.584769, -10.08)\n",
      "(48829.659965, -10.061)\n",
      "(48831.461817, -9.684)\n",
      "(48831.564722, -9.684)\n",
      "(48831.63897, -9.703)\n",
      "(48831.661551, -9.691)\n",
      "(48832.459769, -9.575)\n",
      "(48832.65125, -9.546)\n",
      "(48833.569375, -9.378)\n",
      "(48834.430926, -9.324)\n",
      "(48834.515544, -9.318)\n",
      "(48834.639225, -9.346)\n",
      "(48835.571053, -9.476)\n",
      "(48835.606296, -9.489)\n",
      "(48836.522002, -9.763)\n",
      "(48836.564236, -9.812)\n",
      "(48841.441516, -9.742)\n",
      "(48841.633623, -9.742)\n",
      "(48842.458345, -9.624)\n",
      "(48842.565046, -9.613)\n",
      "(48842.632581, -9.608)\n",
      "(48843.416875, -9.523)\n",
      "(48843.562419, -9.453)\n",
      "(48843.64015, -9.401)\n",
      "(48845.452292, -9.373)\n",
      "(48849.5836, -10.255)\n",
      "(48849.659977, -10.229)\n",
      "(48850.497442, -10.038)\n",
      "(48851.481181, -9.802)\n",
      "(48851.59765, -9.777)\n",
      "(48853.645799, -9.528)\n",
      "(48854.455266, -9.411)\n",
      "(48854.557338, -9.404)\n",
      "(48855.527002, -9.351)\n",
      "(48855.579722, -9.33)\n",
      "(48856.609769, -9.569)\n",
      "(48882.423356, -9.824)\n",
      "(48884.469873, -9.582)\n",
      "(48885.43728, -9.438)\n",
      "(48887.500475, -9.456)\n",
      "(48888.555648, -9.84)\n",
      "(48892.592604, -9.882)\n",
      "(48894.561655, -9.616)\n",
      "(48895.587106, -9.471)\n",
      "(48896.589398, -9.363)\n",
      "(48906.407998, -9.421)\n",
      "(48907.393912, -9.358)\n",
      "(48908.278576, -9.441)\n",
      "(48909.39735, -9.785)\n",
      "(48914.57809, -9.731)\n",
      "(48915.430718, -9.605)\n",
      "(48916.516921, -9.457)\n",
      "(48917.352616, -9.36)\n",
      "(48919.355104, -9.627)\n",
      "(48919.441273, -9.657)\n",
      "(48919.516227, -9.679)\n",
      "(48919.599155, -9.712)\n",
      "(48920.286863, -9.989)\n",
      "(48923.513403, -9.974)\n",
      "(48927.261887, -9.405)\n",
      "(48928.290602, -9.311)\n",
      "(48929.238299, -9.483)\n",
      "(48929.449583, -9.548)\n",
      "(48930.241771, -9.805)\n",
      "(48931.239676, -10.032)\n",
      "(48931.425579, -10.021)\n",
      "(48933.393738, -10.196)\n",
      "(48935.39787, -9.731)\n",
      "(48937.405069, -9.406)\n",
      "(48937.415289, -9.425)\n",
      "(48937.43831, -9.448)\n",
      "(48938.280475, -9.347)\n",
      "(48939.296157, -9.398)\n",
      "(48939.460255, -9.45)\n",
      "(48941.356863, -10.039)\n",
      "(48941.48287, -10.043)\n",
      "(48947.395671, -9.515)\n",
      "(48947.518785, -9.51)\n",
      "(48948.477627, -9.372)\n",
      "(48949.293924, -9.349)\n",
      "(48964.443623, -10.229)\n",
      "(48965.279294, -9.931)\n",
      "(48965.417766, -9.879)\n",
      "(48965.522917, -9.868)\n",
      "(48966.282199, -9.762)\n",
      "(48966.397812, -9.751)\n",
      "(48974.325278, -10.251)\n",
      "(48984.27625, -10.131)\n",
      "(48984.446505, -10.285)\n",
      "(48985.303611, -10.216)\n",
      "(48985.432188, -10.161)\n",
      "(48985.497512, -10.207)\n",
      "(48987.291701, -9.751)\n",
      "(48987.420023, -9.733)\n",
      "(48987.465058, -9.738)\n",
      "(48988.279826, -9.625)\n",
      "(48988.402917, -9.613)\n",
      "(48988.421447, -9.613)\n",
      "(48988.469595, -9.604)\n",
      "(48989.301412, -9.468)\n",
      "(48989.40787, -9.462)\n",
      "(48996.248657, -10.021)\n",
      "(48996.36287, -9.994)\n",
      "(48996.486991, -9.963)\n",
      "(48998.250903, -9.688)\n",
      "(48998.360602, -9.668)\n",
      "(48998.445995, -9.672)\n",
      "(49000.265278, -9.387)\n",
      "(49000.443947, -9.388)\n",
      "(49001.253808, -9.347)\n",
      "(49001.445475, -9.374)\n",
      "(49002.251262, -9.522)\n",
      "(49003.34735, -9.89)\n",
      "(49003.441377, -9.928)\n",
      "(49004.244248, -10.029)\n",
      "(49006.260463, -10.151)\n",
      "(49006.444317, -10.127)\n",
      "(49007.268877, -9.825)\n",
      "(49007.429444, -9.819)\n",
      "(49010.425671, -9.433)\n",
      "(49011.340336, -9.334)\n",
      "(49011.42434, -9.345)\n",
      "(49014.447141, -10.048)\n",
      "(49015.25419, -10.063)\n",
      "(49015.379907, -10.105)\n",
      "(49016.253032, -10.259)\n",
      "(49016.408102, -10.251)\n",
      "(49018.277998, -9.769)\n",
      "(49018.406007, -9.772)\n",
      "(49020.335648, -9.494)\n",
      "(49020.518391, -9.49)\n",
      "(49021.28294, -9.369)\n",
      "(49021.399201, -9.368)\n",
      "(49024.250046, -9.914)\n",
      "(49025.28228, -10.029)\n",
      "(49025.319271, -9.967)\n",
      "(49025.496713, -10.036)\n",
      "(49029.25066, -9.724)\n",
      "(49031.271181, -9.438)\n",
      "(49032.246528, -9.35)\n",
      "(49032.364306, -9.354)\n",
      "(49035.374618, -10.04)\n",
      "(49036.452396, -10.22)\n",
      "(49037.232407, -10.238)\n",
      "(49037.462963, -10.19)\n",
      "(49040.268785, -9.639)\n",
      "(49042.251181, -9.382)\n",
      "(49043.24875, -9.379)\n",
      "(49043.350012, -9.401)\n",
      "(49044.258819, -9.621)\n",
      "(49044.414271, -9.689)\n",
      "(49045.232731, -9.971)\n",
      "(49045.338785, -9.999)\n",
      "(49046.38985, -10.061)\n",
      "(49048.229363, -10.085)\n",
      "(49048.33228, -10.044)\n",
      "(49049.245069, -9.813)\n",
      "(49049.387176, -9.782)\n",
      "(49050.39272, -9.688)\n",
      "(49051.225023, -9.56)\n",
      "(49053.335023, -9.364)\n",
      "(49055.464051, -9.926)\n",
      "(49059.226759, -9.866)\n",
      "(49059.364062, -9.833)\n",
      "(49060.209271, -9.751)\n",
      "(49061.212512, -9.62)\n",
      "(49061.393819, -9.623)\n",
      "(49062.21044, -9.47)\n",
      "(49064.309491, -9.425)\n",
      "(49064.441875, -9.471)\n",
      "(49065.281354, -9.685)\n",
      "(49065.430405, -9.743)\n",
      "(49067.204433, -10.04)\n",
      "(49067.351377, -10.092)\n",
      "(49068.266458, -10.228)\n",
      "(49069.206516, -10.022)\n",
      "(49069.361713, -9.951)\n",
      "(49073.203194, -9.378)\n",
      "(49073.251632, -9.389)\n",
      "(49074.196262, -9.351)\n",
      "(49074.339745, -9.361)\n",
      "(49075.18831, -9.551)\n",
      "(49075.44809, -9.6)\n",
      "(49076.242361, -9.892)\n",
      "(49076.387222, -9.958)\n",
      "(49077.232465, -10.022)\n",
      "(49078.442245, -10.258)\n",
      "(49080.298634, -9.827)\n",
      "(49082.309687, -9.604)\n",
      "(49083.215868, -9.443)\n",
      "(49083.354572, -9.416)\n",
      "(49084.28044, -9.348)\n",
      "(49085.25853, -9.45)\n",
      "(49086.265081, -9.726)\n",
      "(49088.280162, -10.077)\n",
      "(49089.2814, -10.219)\n",
      "(49092.330544, -9.662)\n",
      "(49093.223565, -9.516)\n",
      "(49094.226528, -9.373)\n",
      "(49095.225602, -9.384)\n",
      "(49096.226632, -9.597)\n",
      "(49096.33375, -9.605)\n",
      "(49097.228866, -9.93)\n",
      "(49097.356169, -9.975)\n",
      "(49098.226632, -10.0)\n",
      "(49098.32831, -10.018)\n",
      "(49099.21588, -10.182)\n",
      "(49099.317222, -10.236)\n",
      "(49099.323322, -10.224)\n",
      "(49100.213438, -10.121)\n",
      "(49100.320995, -10.064)\n",
      "(49101.228738, -9.815)\n",
      "(49103.225185, -9.574)\n",
      "(49104.379931, -9.412)\n",
      "(49106.305926, -9.504)\n",
      "(49107.243252, -9.769)\n",
      "(49107.376262, -9.818)\n",
      "(49108.227778, -9.973)\n",
      "(49109.278333, -10.127)\n",
      "(49111.288623, -9.886)\n",
      "(49112.234387, -9.714)\n",
      "(49114.218519, -9.492)\n",
      "(49115.374687, -9.342)\n",
      "(49117.226979, -9.617)\n",
      "(49118.203102, -9.997)\n",
      "(49120.209595, -10.251)\n",
      "(49122.229838, -9.815)\n",
      "(49123.209919, -9.707)\n",
      "(49124.208958, -9.555)\n",
      "(49125.204271, -9.41)\n",
      "(49126.204977, -9.363)\n",
      "(49127.213438, -9.521)\n",
      "(49130.247743, -10.19)\n",
      "(49132.331933, -9.839)\n",
      "(49133.267049, -9.74)\n",
      "(49134.21162, -9.616)\n",
      "(49134.663275, -9.54)\n",
      "(49135.192882, -9.464)\n",
      "(49140.198843, -10.045)\n",
      "(49140.62162, -10.153)\n",
      "(49141.622037, -10.177)\n",
      "(49142.605845, -9.832)\n",
      "(49143.202905, -9.78)\n",
      "(49143.606806, -9.719)\n",
      "(49144.624734, -9.6)\n",
      "(49145.193484, -9.542)\n",
      "(49145.607303, -9.461)\n",
      "(49146.192257, -9.408)\n",
      "(49151.608009, -10.23)\n",
      "(49152.191817, -10.148)\n",
      "(49152.604005, -9.964)\n",
      "(49153.200359, -9.819)\n",
      "(49154.197581, -9.734)\n",
      "(49155.230023, -9.592)\n",
      "(49156.19875, -9.45)\n",
      "(49161.190845, -10.114)\n",
      "(49161.607766, -10.188)\n",
      "(49162.232975, -10.236)\n",
      "(49162.580833, -10.146)\n",
      "(49163.195116, -9.915)\n",
      "(49163.615428, -9.808)\n",
      "(49164.193785, -9.756)\n",
      "(49164.58853, -9.714)\n",
      "(49165.244491, -9.639)\n",
      "(49165.565984, -9.585)\n",
      "(49167.678912, -9.34)\n",
      "(49169.193021, -9.583)\n",
      "(49169.204699, -9.602)\n",
      "(49169.604664, -9.734)\n",
      "(49171.584884, -10.076)\n",
      "(49172.190266, -10.231)\n",
      "(49176.199873, -9.577)\n",
      "(49178.587569, -9.365)\n",
      "(49179.548056, -9.576)\n",
      "(49180.197106, -9.801)\n",
      "(49181.506146, -9.985)\n",
      "(49181.661898, -10.015)\n",
      "(49182.601771, -10.23)\n",
      "(49183.495266, -10.086)\n",
      "(49183.656319, -10.07)\n",
      "(49184.488773, -9.801)\n",
      "(49185.500185, -9.713)\n",
      "(49186.510347, -9.577)\n",
      "(49186.600104, -9.553)\n",
      "(49188.483866, -9.313)\n",
      "(49189.492315, -9.45)\n",
      "(49194.506377, -9.883)\n",
      "(49194.670336, -9.857)\n",
      "(49195.455972, -9.745)\n",
      "(49196.490359, -9.628)\n",
      "(49199.517847, -9.373)\n",
      "(49201.453681, -9.936)\n",
      "(49203.474479, -10.232)\n",
      "(49203.668773, -10.273)\n",
      "(49204.47309, -10.06)\n",
      "(49208.461794, -9.386)\n",
      "(49208.663611, -9.381)\n",
      "(49209.440972, -9.312)\n",
      "(49209.666782, -9.334)\n",
      "(49210.459005, -9.481)\n",
      "(49210.664479, -9.537)\n",
      "(49211.490463, -9.809)\n",
      "(49212.603762, -10.017)\n",
      "(49214.593079, -10.156)\n",
      "(49215.431887, -9.874)\n",
      "(49215.650972, -9.827)\n",
      "(49216.418785, -9.716)\n",
      "(49216.657535, -9.713)\n",
      "(49217.427801, -9.628)\n",
      "(49218.417963, -9.481)\n",
      "(49218.659664, -9.456)\n",
      "(49219.434456, -9.379)\n",
      "(49220.525185, -9.4)\n",
      "(49220.648924, -9.434)\n",
      "(49221.414838, -9.611)\n",
      "(49222.399861, -9.997)\n",
      "(49223.401736, -10.009)\n",
      "(49224.387338, -10.226)\n",
      "(49225.607593, -9.954)\n",
      "(49233.381319, -10.039)\n",
      "(49233.412257, -9.997)\n",
      "(49252.368484, -9.563)\n",
      "(49253.374977, -9.907)\n",
      "(49254.430914, -10.022)\n",
      "(49255.348565, -10.21)\n",
      "(49255.614815, -10.262)\n",
      "(49256.361285, -10.113)\n",
      "(49256.608831, -10.055)\n",
      "(49257.35706, -9.815)\n",
      "(49257.611551, -9.782)\n",
      "(49258.316123, -9.734)\n",
      "(49258.53647, -9.702)\n",
      "(49259.520359, -9.561)\n",
      "(49260.341319, -9.437)\n",
      "(49264.530856, -10.032)\n",
      "(49265.316053, -10.084)\n",
      "(49265.610845, -10.173)\n",
      "(49266.396713, -10.255)\n",
      "(49267.412257, -9.892)\n",
      "(49267.606597, -9.854)\n",
      "(49268.371898, -9.761)\n",
      "(49268.599132, -9.738)\n",
      "(49269.411806, -9.596)\n",
      "(49270.374954, -9.449)\n",
      "(49270.612002, -9.452)\n",
      "(49272.406273, -9.381)\n",
      "(49273.289282, -9.576)\n",
      "(49273.599676, -9.682)\n",
      "(49276.55794, -10.263)\n",
      "(49277.446852, -10.043)\n",
      "(49279.537894, -9.675)\n",
      "(49280.495324, -9.525)\n",
      "(49282.344294, -9.338)\n",
      "(49283.271343, -9.472)\n",
      "(49283.588044, -9.562)\n",
      "(49285.468495, -10.026)\n",
      "(49286.282083, -10.116)\n",
      "(49287.361389, -10.208)\n",
      "(49287.594653, -10.163)\n",
      "(49289.366065, -9.742)\n",
      "(49290.569097, -9.584)\n",
      "(49291.256968, -9.475)\n",
      "(49291.529572, -9.451)\n",
      "(49302.360058, -9.381)\n",
      "(49302.524537, -9.366)\n",
      "(49303.214641, -9.345)\n",
      "(49307.291134, -10.191)\n",
      "(49309.253981, -9.839)\n",
      "(49311.303021, -9.596)\n",
      "(49311.51309, -9.569)\n",
      "(49312.315012, -9.441)\n",
      "(49312.5086, -9.405)\n",
      "(49313.270556, -9.335)\n",
      "(49313.509491, -9.338)\n",
      "(49314.242569, -9.402)\n",
      "(49315.268507, -9.71)\n",
      "(49317.270243, -10.06)\n",
      "(49317.511134, -10.133)\n",
      "(49318.402569, -10.239)\n",
      "(49318.523958, -10.197)\n",
      "(49372.256748, -9.778)\n",
      "(49374.409468, -9.488)\n",
      "(49374.424398, -9.528)\n",
      "(49375.265961, -9.386)\n",
      "(49375.550532, -9.375)\n",
      "(49376.287199, -9.351)\n",
      "(49376.530208, -9.387)\n",
      "(49377.539826, -9.624)\n",
      "(49378.241701, -9.874)\n",
      "(49378.537002, -9.943)\n",
      "(49379.497731, -10.018)\n",
      "(49380.243715, -10.206)\n",
      "(49382.543912, -9.814)\n",
      "(49384.47684, -9.558)\n",
      "(49386.266238, -9.345)\n",
      "(49388.379086, -9.804)\n",
      "(49389.509606, -10.031)\n",
      "(49390.256655, -10.085)\n",
      "(49390.5561, -10.183)\n",
      "(49392.520521, -9.83)\n",
      "(49396.363148, -9.331)\n",
      "(49398.232836, -9.588)\n",
      "(49399.237361, -9.958)\n",
      "(49399.539329, -10.023)\n",
      "(49400.256956, -10.024)\n",
      "(49404.401181, -9.679)\n",
      "(49405.327766, -9.559)\n",
      "(49408.450833, -9.547)\n",
      "(49409.365417, -9.859)\n",
      "(49411.460451, -10.154)\n",
      "(49412.11235, -10.146)\n",
      "(49413.230787, -9.874)\n",
      "(49414.246736, -9.751)\n",
      "(49415.230278, -9.624)\n",
      "(49416.222951, -9.476)\n",
      "(49417.228715, -9.355)\n",
      "(49423.211713, -10.064)\n",
      "(49425.357882, -9.671)\n",
      "(49426.216516, -9.548)\n",
      "(49428.480799, -9.413)\n",
      "(49429.337905, -9.57)\n",
      "(49432.217963, -10.189)\n",
      "(49434.301875, -9.835)\n",
      "(49435.439051, -9.724)\n",
      "(49436.288912, -9.606)\n",
      "(49437.456065, -9.429)\n",
      "(49438.326725, -9.363)\n",
      "(49441.428808, -10.027)\n",
      "(49444.382685, -9.961)\n",
      "(49446.339815, -9.634)\n",
      "(49447.407581, -9.494)\n",
      "(49448.300833, -9.38)\n",
      "(49449.327685, -9.379)\n",
      "(49449.344329, -9.385)\n",
      "(49450.315822, -9.597)\n",
      "(49451.322396, -9.946)\n",
      "(49452.353067, -10.023)\n",
      "(49455.287894, -9.839)\n",
      "(49456.433009, -9.71)\n",
      "(49457.290833, -9.576)\n",
      "(49458.253206, -9.424)\n",
      "(49460.286088, -9.478)\n",
      "(49461.300255, -9.769)\n",
      "(49462.274491, -10.027)\n",
      "(49463.273935, -10.108)\n",
      "(49463.328565, -10.106)\n",
      "(49464.274375, -10.265)\n",
      "(49464.28765, -10.238)\n",
      "(49465.284595, -9.863)\n",
      "(49467.327743, -9.64)\n",
      "(49469.384838, -9.346)\n",
      "(49470.390914, -9.397)\n",
      "(49471.288067, -9.639)\n",
      "(49472.338299, -9.997)\n",
      "(49473.357187, -10.03)\n",
      "(49477.267824, -9.692)\n",
      "(49478.281088, -9.549)\n",
      "(49479.214225, -9.418)\n",
      "(49481.326343, -9.529)\n",
      "(49483.299688, -10.024)\n",
      "(49484.203727, -10.102)\n",
      "(49485.270174, -10.193)\n",
      "(49486.261991, -9.872)\n",
      "(49487.295451, -9.751)\n",
      "(49487.657442, -9.693)\n",
      "(49488.281262, -9.625)\n",
      "(49488.648333, -9.554)\n",
      "(49489.244907, -9.475)\n",
      "(49491.638252, -9.491)\n",
      "(49492.2889, -9.685)\n",
      "(49493.255729, -9.994)\n",
      "(49493.632824, -10.043)\n",
      "(49494.640451, -10.146)\n",
      "(49496.246551, -10.003)\n",
      "(49496.634977, -9.84)\n",
      "(49498.273183, -9.659)\n",
      "(49500.238032, -9.436)\n",
      "(49500.662118, -9.346)\n",
      "(49505.290949, -10.2)\n",
      "(49509.242558, -9.59)\n",
      "(49511.603032, -9.311)\n",
      "(49512.237396, -9.452)\n",
      "(49512.597743, -9.525)\n",
      "(49513.232963, -9.732)\n",
      "(49513.642245, -9.888)\n",
      "(49514.224502, -10.033)\n",
      "(49516.235116, -10.248)\n",
      "(49517.563102, -9.824)\n",
      "(49518.222025, -9.806)\n",
      "(49518.574329, -9.735)\n",
      "(49518.584155, -9.72)\n",
      "(49519.195359, -9.68)\n",
      "(49519.2336, -9.662)\n",
      "(49520.580926, -9.443)\n",
      "(49521.659954, -9.323)\n",
      "(49522.590336, -9.438)\n",
      "(49525.245012, -10.031)\n",
      "(49525.618044, -10.065)\n",
      "(49526.207558, -10.24)\n",
      "(49527.215023, -10.104)\n",
      "(49530.221944, -9.564)\n",
      "(49530.650521, -9.486)\n",
      "(49531.571065, -9.379)\n",
      "(49532.192106, -9.359)\n",
      "(49532.643148, -9.365)\n",
      "(49533.197697, -9.484)\n",
      "(49534.198495, -9.785)\n",
      "(49534.609757, -9.931)\n",
      "(49535.210289, -10.04)\n",
      "(49535.666181, -10.023)\n",
      "(49536.199201, -10.105)\n",
      "(49537.200174, -10.208)\n",
      "(49537.653044, -10.067)\n",
      "(49538.208611, -9.877)\n",
      "(49538.613183, -9.782)\n",
      "(49539.619271, -9.694)\n",
      "(49540.20265, -9.631)\n",
      "(49540.600035, -9.555)\n",
      "(49541.607407, -9.425)\n",
      "(49542.210104, -9.351)\n",
      "(49545.505961, -10.029)\n",
      "(49546.50434, -10.064)\n",
      "(49546.66478, -10.144)\n",
      "(49547.199248, -10.239)\n",
      "(49548.191667, -10.051)\n",
      "(49549.181597, -9.796)\n",
      "(49550.187488, -9.694)\n",
      "(49550.642002, -9.615)\n",
      "(49551.620637, -9.476)\n",
      "(49552.179109, -9.389)\n",
      "(49552.672813, -9.355)\n",
      "(49553.463125, -9.356)\n",
      "(49554.474803, -9.587)\n",
      "(49554.670185, -9.652)\n",
      "(49555.5114, -9.97)\n",
      "(49555.650775, -10.001)\n",
      "(49556.515694, -10.013)\n",
      "(49556.652164, -10.043)\n",
      "(49557.598368, -10.257)\n",
      "(49558.548252, -10.065)\n",
      "(49559.483356, -9.801)\n",
      "(49559.660023, -9.783)\n",
      "(49560.529965, -9.713)\n",
      "(49560.669664, -9.653)\n",
      "(49561.540579, -9.546)\n",
      "(49562.571782, -9.402)\n",
      "(49566.465613, -10.002)\n",
      "(49566.651667, -10.024)\n",
      "(49567.502662, -10.14)\n",
      "(49567.65875, -10.189)\n",
      "(49568.540208, -10.197)\n",
      "(49568.655775, -10.166)\n",
      "(49569.508345, -9.861)\n",
      "(49569.658021, -9.829)\n",
      "(49571.472593, -9.615)\n",
      "(49571.65985, -9.587)\n",
      "(49572.479294, -9.652)\n",
      "(49572.492743, -9.456)\n",
      "(49572.655312, -9.442)\n",
      "(49573.470069, -9.354)\n",
      "(49574.47088, -9.643)\n",
      "(49574.506725, -9.396)\n",
      "(49574.656053, -9.447)\n",
      "(49577.450046, -10.025)\n",
      "(49577.64081, -10.06)\n",
      "(49578.462928, -10.257)\n",
      "(49578.640104, -10.264)\n",
      "(49579.47162, -10.032)\n",
      "(49579.635313, -9.946)\n",
      "(49580.42772, -9.795)\n",
      "(49580.644201, -9.77)\n",
      "(49581.586944, -9.666)\n",
      "(49585.457824, -9.53)\n",
      "(49585.651019, -9.576)\n",
      "(49586.463229, -9.854)\n",
      "(49586.64162, -9.909)\n",
      "(49587.461227, -10.013)\n",
      "(49588.497789, -10.195)\n",
      "(49588.654178, -10.238)\n",
      "(49589.427639, -10.214)\n",
      "(49589.501157, -10.166)\n",
      "(49590.43566, -9.848)\n",
      "(49590.62, -9.829)\n",
      "(49591.458102, -9.736)\n",
      "(49591.641875, -9.719)\n",
      "(49592.427187, -9.599)\n",
      "(49595.463808, -9.414)\n",
      "(49595.64235, -9.482)\n",
      "(49596.456875, -9.708)\n",
      "(49596.636933, -9.749)\n",
      "(49597.525046, -10.023)\n",
      "(49597.629317, -9.991)\n",
      "(49598.488704, -10.069)\n",
      "(49598.624178, -10.117)\n",
      "(49599.492442, -10.245)\n",
      "(49601.566019, -9.763)\n",
      "(49602.448519, -9.662)\n",
      "(49604.465787, -9.378)\n",
      "(49604.630417, -9.378)\n",
      "(49605.454722, -9.358)\n",
      "(49605.627824, -9.393)\n",
      "(49606.458333, -9.576)\n",
      "(49606.610521, -9.637)\n",
      "(49607.334745, -9.859)\n",
      "(49607.618125, -9.977)\n",
      "(49608.459375, -10.021)\n",
      "(49608.616632, -10.046)\n",
      "(49609.485799, -10.233)\n",
      "(49609.619236, -10.255)\n",
      "(49610.43956, -10.114)\n",
      "(49610.618704, -10.057)\n",
      "(49611.44544, -9.798)\n",
      "(49611.621991, -9.787)\n",
      "(49612.442604, -9.706)\n",
      "(49613.617975, -9.553)\n",
      "(49614.445602, -9.441)\n",
      "(49616.469907, -9.468)\n",
      "(49616.61794, -9.526)\n",
      "(49617.424745, -9.725)\n",
      "(49617.617789, -9.824)\n",
      "(49618.422975, -10.031)\n",
      "(49618.619919, -10.03)\n",
      "(49619.421725, -10.065)\n",
      "(49619.616574, -10.169)\n",
      "(49620.455741, -10.249)\n",
      "(49620.616505, -10.213)\n",
      "(49621.566123, -9.859)\n",
      "(49622.454387, -9.751)\n",
      "(49623.453935, -9.614)\n",
      "(49624.619896, -9.456)\n",
      "(49625.435903, -9.356)\n",
      "(49625.613553, -9.365)\n",
      "(49627.442859, -9.607)\n",
      "(49628.49478, -9.993)\n",
      "(49629.496192, -10.02)\n",
      "(49629.605856, -10.057)\n",
      "(49630.418403, -10.247)\n",
      "(49630.604537, -10.223)\n",
      "(49633.364213, -9.706)\n",
      "(49634.353623, -9.566)\n",
      "(49634.591933, -9.538)\n",
      "(49635.423981, -9.391)\n",
      "(49635.607789, -9.381)\n",
      "(49636.394769, -9.324)\n",
      "(49637.476331, -9.515)\n",
      "(49638.451065, -9.823)\n",
      "(49639.399329, -10.032)\n",
      "(49639.606829, -9.972)\n",
      "(49640.433588, -10.162)\n",
      "(49640.596285, -10.191)\n",
      "(49641.543287, -10.164)\n",
      "(49642.343148, -9.881)\n",
      "(49645.324005, -9.469)\n",
      "(49647.533079, -9.427)\n",
      "(49648.334387, -9.644)\n",
      "(49648.589965, -9.692)\n",
      "(49649.330694, -9.981)\n",
      "(49649.58684, -9.94)\n",
      "(49651.453623, -10.262)\n",
      "(49653.393981, -9.777)\n",
      "(49654.359919, -9.669)\n",
      "(49660.436725, -10.02)\n",
      "(49664.478218, -9.706)\n",
      "(49665.333646, -9.593)\n",
      "(49666.287361, -9.451)\n",
      "(49667.415822, -9.332)\n",
      "(49670.306794, -10.023)\n",
      "(49671.266678, -10.047)\n",
      "(49672.243854, -10.274)\n",
      "(49673.356007, -9.941)\n",
      "(49673.48169, -9.939)\n",
      "(49674.490833, -9.765)\n",
      "(49676.306979, -9.511)\n",
      "(49681.29191, -10.016)\n",
      "(49682.310359, -10.233)\n",
      "(49687.295926, -9.424)\n",
      "(49688.30809, -9.332)\n",
      "(49689.372025, -9.481)\n",
      "(49690.299375, -9.75)\n",
      "(49691.344016, -10.037)\n",
      "(49692.365949, -10.131)\n",
      "(49693.317627, -10.235)\n",
      "(49695.347037, -9.764)\n",
      "(49696.342384, -9.638)\n",
      "(49697.362593, -9.474)\n",
      "(49698.467141, -9.348)\n",
      "(49699.47853, -9.416)\n",
      "(49700.309792, -9.622)\n",
      "(49702.322581, -10.033)\n",
      "(49703.392674, -10.266)\n",
      "(49704.317535, -10.051)\n",
      "(49705.339502, -9.8)\n",
      "(49705.381458, -9.793)\n",
      "(49715.2764, -9.848)\n",
      "(49717.429815, -9.597)\n",
      "(49723.303125, -10.055)\n",
      "(49727.280833, -9.676)\n",
      "(49729.475058, -9.372)\n",
      "(49730.329653, -9.361)\n",
      "(49732.508889, -9.989)\n",
      "(49737.520671, -9.814)\n",
      "(49751.309734, -9.372)\n",
      "(49752.434282, -9.648)\n",
      "(49752.438715, -9.653)\n",
      "(49754.320255, -10.028)\n",
      "(49755.426343, -10.186)\n",
      "(49759.362188, -9.557)\n",
      "(49760.535625, -9.408)\n",
      "(49762.349618, -9.522)\n",
      "(49764.477836, -10.046)\n",
      "(49767.386921, -9.85)\n",
      "(49784.294896, -9.878)\n",
      "(49786.47331, -10.26)\n",
      "(49788.369051, -9.819)\n",
      "(49790.274769, -9.605)\n",
      "(49791.472581, -9.453)\n",
      "(49795.273681, -10.039)\n",
      "(49797.287639, -10.217)\n",
      "(49799.260035, -9.78)\n",
      "(49800.352014, -9.667)\n",
      "(49801.293773, -9.524)\n",
      "(49802.436806, -9.372)\n",
      "(49804.25515, -9.601)\n",
      "(49806.268449, -10.022)\n",
      "(49808.265012, -10.124)\n",
      "(49809.331019, -9.935)\n",
      "(49809.367338, -9.808)\n",
      "(49810.328356, -9.703)\n",
      "(49819.314769, -9.915)\n",
      "(49824.290324, -9.399)\n",
      "(49826.328391, -10.003)\n",
      "(49828.382072, -10.243)\n",
      "(49831.292546, -9.712)\n",
      "(49835.324109, -9.511)\n",
      "(49842.328206, -9.604)\n",
      "(49851.351447, -9.785)\n",
      "(49856.293715, -9.554)\n",
      "(49858.287211, -10.004)\n",
      "(49862.251817, -9.741)\n",
      "(49864.260347, -9.456)\n",
      "(49866.208947, -9.444)\n",
      "(49868.303241, -10.018)\n",
      "(49872.268044, -9.766)\n",
      "(49874.236389, -9.509)\n",
      "(49875.198843, -9.385)\n",
      "(49879.237558, -10.008)\n",
      "(49880.200972, -10.223)\n",
      "(49880.211192, -10.219)\n",
      "(49883.671562, -9.645)\n",
      "(49885.215278, -9.433)\n",
      "(49887.203692, -9.467)\n",
      "(49889.193889, -10.039)\n",
      "(49890.206632, -10.107)\n",
      "(49891.201134, -10.199)\n",
      "(49895.186968, -9.497)\n",
      "(49901.667627, -10.224)\n",
      "(49902.200764, -10.059)\n",
      "(49905.641829, -9.479)\n",
      "(49907.633657, -9.373)\n",
      "(49912.645428, -10.03)\n",
      "(49916.661736, -9.386)\n",
      "(49917.610382, -9.348)\n",
      "(49921.552639, -10.132)\n",
      "(49927.471157, -9.323)\n",
      "(49929.56, -9.646)\n",
      "(49931.629039, -10.057)\n",
      "(49933.468576, -10.043)\n",
      "(49935.583218, -9.674)\n",
      "(49936.571076, -9.517)\n",
      "(49937.586053, -9.37)\n",
      "(49938.456979, -9.314)\n",
      "(49939.483796, -9.531)\n",
      "(49940.621991, -9.909)\n",
      "(49941.465301, -10.027)\n",
      "(49942.537986, -10.238)\n",
      "(49943.530891, -10.176)\n",
      "(49944.553102, -9.823)\n",
      "(49945.536076, -9.717)\n",
      "(49946.6225, -9.564)\n",
      "(49947.625185, -9.435)\n",
      "(49948.572234, -9.324)\n",
      "(49949.429433, -9.411)\n",
      "(49951.449595, -10.001)\n",
      "(49952.529676, -10.073)\n",
      "(49953.4464, -10.264)\n",
      "(49954.534132, -9.928)\n",
      "(49955.621678, -9.756)\n",
      "(49957.399525, -9.535)\n",
      "(49958.651366, -9.339)\n",
      "(49961.412928, -9.884)\n",
      "(49963.594375, -10.245)\n",
      "(49965.458472, -9.797)\n",
      "(49966.511157, -9.717)\n",
      "(49967.406146, -9.6)\n",
      "(49969.372153, -9.341)\n",
      "(49970.369016, -9.433)\n",
      "(49971.638762, -9.817)\n",
      "(49972.382523, -10.034)\n",
      "(49973.617662, -10.156)\n",
      "(49974.58522, -10.212)\n",
      "(49980.410174, -9.353)\n",
      "(49982.345081, -9.931)\n",
      "(49986.396597, -9.81)\n",
      "(49987.355741, -9.716)\n",
      "(49994.384502, -10.119)\n",
      "(49994.591169, -10.189)\n",
      "(49995.560822, -10.186)\n",
      "(49996.418924, -9.878)\n",
      "(49997.475694, -9.735)\n",
      "(49998.499271, -9.614)\n",
      "(50003.433958, -9.987)\n",
      "(50005.414317, -10.26)\n",
      "(50006.400417, -10.033)\n",
      "(50007.482419, -9.768)\n",
      "(50013.367569, -9.854)\n",
      "(50015.336262, -10.103)\n",
      "(50019.431563, -9.586)\n",
      "(50021.427106, -9.331)\n",
      "(50022.459444, -9.442)\n",
      "(50029.303681, -9.648)\n",
      "(50031.341771, -9.389)\n",
      "(50033.305185, -9.562)\n",
      "(50038.379792, -9.808)\n",
      "(50038.497442, -9.803)\n",
      "(50044.288241, -9.743)\n",
      "(50045.364687, -10.029)\n",
      "(50046.350023, -10.11)\n",
      "(50047.425162, -10.218)\n",
      "(50054.307326, -9.614)\n",
      "(50057.329583, -10.254)\n",
      "(50058.341435, -10.06)\n",
      "(50061.340069, -9.542)\n",
      "(50063.310532, -9.327)\n",
      "(50066.343727, -9.992)\n",
      "(50071.280058, -9.615)\n",
      "(50072.342384, -9.46)\n",
      "(50074.310822, -9.401)\n",
      "(50077.3814, -10.042)\n",
      "(50078.515613, -10.249)\n",
      "(50083.485405, -9.373)\n",
      "(50086.480208, -9.932)\n",
      "(50088.32625, -10.203)\n",
      "(50089.320174, -10.153)\n",
      "(50091.352442, -9.723)\n",
      "(50091.397766, -9.701)\n",
      "(50093.512593, -9.416)\n",
      "(50095.346123, -9.442)\n",
      "(50099.458773, -10.232)\n",
      "(50105.323831, -9.375)\n",
      "(50107.329479, -9.924)\n",
      "(50108.356007, -10.029)\n",
      "(50109.362998, -10.243)\n",
      "(50123.307986, -9.632)\n",
      "(50125.517789, -9.349)\n",
      "(50126.339803, -9.398)\n",
      "(50127.343715, -9.652)\n",
      "(50128.352269, -10.019)\n",
      "(50131.314109, -10.044)\n",
      "(50132.249456, -9.804)\n",
      "(50134.240949, -9.565)\n",
      "(50135.30059, -9.417)\n",
      "(50138.397245, -9.886)\n",
      "(50141.26728, -10.206)\n",
      "(50143.336204, -9.748)\n",
      "(50145.292014, -9.491)\n",
      "(50151.27456, -10.26)\n",
      "(50153.498495, -9.749)\n",
      "(50155.336852, -9.52)\n",
      "(50157.245428, -9.36)\n",
      "(50159.314051, -9.934)\n",
      "(50160.455382, -10.013)\n",
      "(50161.319803, -10.221)\n",
      "(50163.44662, -9.759)\n",
      "(50163.467535, -9.837)\n",
      "(50166.276088, -9.459)\n",
      "(50168.422315, -9.495)\n",
      "(50172.299282, -10.234)\n",
      "(50173.382072, -9.883)\n",
      "(50174.279016, -9.783)\n",
      "(50176.409421, -9.504)\n",
      "(50178.244861, -9.373)\n",
      "(50179.288715, -9.617)\n",
      "(50181.312083, -10.024)\n",
      "(50185.270475, -9.731)\n",
      "(50188.239896, -9.391)\n",
      "(50188.266053, -9.368)\n",
      "(50192.244792, -10.111)\n",
      "(50193.349062, -10.205)\n",
      "(50196.300278, -9.627)\n",
      "(50197.358611, -9.479)\n",
      "(50198.390197, -9.372)\n",
      "(50200.270116, -9.666)\n",
      "(50201.28088, -10.016)\n",
      "(50202.254954, -10.042)\n",
      "(50206.249109, -9.698)\n",
      "(50209.362813, -9.348)\n",
      "(50210.318542, -9.563)\n",
      "(50212.231898, -10.03)\n",
      "(50214.258067, -10.185)\n",
      "(50216.245035, -9.748)\n",
      "(50218.199711, -9.467)\n",
      "(50219.236481, -9.371)\n",
      "(50220.289259, -9.449)\n",
      "(50223.291979, -10.073)\n",
      "(50224.235451, -10.258)\n",
      "(50227.203125, -9.682)\n",
      "(50228.302199, -9.523)\n",
      "(50230.27794, -9.355)\n",
      "(50232.201725, -9.847)\n",
      "(50234.212326, -10.204)\n",
      "(50236.199213, -9.83)\n",
      "(50238.242813, -9.6)\n",
      "(50239.614225, -9.352)\n",
      "(50241.260579, -9.482)\n",
      "(50243.202442, -10.027)\n",
      "(50245.194595, -10.235)\n",
      "(50247.207963, -9.755)\n",
      "(50254.19772, -10.02)\n",
      "(50255.191829, -10.248)\n",
      "(50258.225255, -9.689)\n",
      "(50263.606863, -9.968)\n",
      "(50266.193657, -10.209)\n",
      "(50267.202454, -9.865)\n",
      "(50271.583623, -9.359)\n",
      "(50271.673738, -9.336)\n",
      "(50276.58662, -10.259)\n",
      "(50276.630868, -10.224)\n",
      "(50278.531366, -9.75)\n",
      "(50293.575972, -9.526)\n",
      "(50296.587257, -10.173)\n",
      "(50297.571493, -10.17)\n",
      "(50300.48588, -9.576)\n",
      "(50301.640856, -9.423)\n",
      "(50302.494236, -9.33)\n",
      "(50303.644375, -9.44)\n",
      "(50304.540035, -9.687)\n",
      "(50305.650058, -10.043)\n",
      "(50307.474398, -10.259)\n",
      "(50308.553322, -9.942)\n",
      "(50310.596296, -9.641)\n",
      "(50311.551829, -9.485)\n",
      "(50315.522326, -9.902)\n",
      "(50319.613287, -9.802)\n",
      "(50320.65066, -9.708)\n",
      "(50322.451262, -9.415)\n",
      "(50327.576736, -10.111)\n",
      "(50329.582963, -9.88)\n",
      "(50333.468056, -9.342)\n",
      "(50333.502755, -9.388)\n",
      "(50335.508542, -9.601)\n",
      "(50340.602083, -9.777)\n",
      "(50341.470532, -9.692)\n",
      "(50341.510822, -9.696)\n",
      "(50346.553021, -9.825)\n",
      "(50348.359016, -10.093)\n",
      "(50349.473646, -10.216)\n",
      "(50350.439861, -9.871)\n",
      "(50352.399074, -9.617)\n",
      "(50353.335069, -9.494)\n",
      "(50359.408993, -10.266)\n",
      "(50360.43603, -10.035)\n",
      "(50364.327083, -9.383)\n",
      "(50364.587326, -9.372)\n",
      "(50366.428958, -9.519)\n",
      "(50368.368183, -10.009)\n",
      "(50369.38897, -10.162)\n",
      "(50370.372407, -10.209)\n",
      "(50371.355532, -9.846)\n",
      "(50374.373229, -9.45)\n",
      "(50376.353032, -9.4)\n",
      "(50376.594803, -9.459)\n",
      "(50377.381829, -9.661)\n",
      "(50379.399294, -10.029)\n",
      "(50380.354086, -10.257)\n",
      "(50384.385729, -9.495)\n",
      "(50385.436146, -9.352)\n",
      "(50385.440567, -9.356)\n",
      "(50389.284641, -10.011)\n",
      "(50394.528287, -9.549)\n",
      "(50395.369919, -9.417)\n",
      "(50396.480567, -9.334)\n",
      "(50397.426898, -9.465)\n",
      "(50399.43816, -10.03)\n",
      "(50401.424722, -10.233)\n",
      "(50405.291933, -9.492)\n",
      "(50406.291273, -9.367)\n",
      "(50406.524664, -9.345)\n",
      "(50407.324433, -9.363)\n",
      "(50409.296065, -9.94)\n",
      "(50410.372743, -10.026)\n",
      "(50411.374387, -10.231)\n",
      "(50416.480475, -9.387)\n",
      "(50417.50015, -9.345)\n",
      "(50419.286921, -9.779)\n",
      "(50419.342755, -9.791)\n",
      "(50422.45103, -10.184)\n",
      "(50424.297419, -9.748)\n",
      "(50425.49044, -9.595)\n",
      "(50426.336042, -9.462)\n",
      "(50428.412616, -9.41)\n",
      "(50429.480602, -9.708)\n",
      "(50431.318646, -10.04)\n",
      "(50432.347211, -10.268)\n",
      "(50433.359468, -10.014)\n",
      "(50435.366921, -9.683)\n",
      "(50436.396134, -9.522)\n",
      "(50437.320799, -9.39)\n",
      "(50438.360868, -9.342)\n",
      "(50439.497558, -9.585)\n",
      "(50440.480891, -9.917)\n",
      "(50445.365509, -9.727)\n",
      "(50448.33603, -9.354)\n",
      "(50450.458762, -9.763)\n",
      "(50451.391343, -10.03)\n",
      "(50452.340521, -10.069)\n",
      "(50453.373067, -10.264)\n",
      "(50455.452361, -9.763)\n",
      "(50456.500046, -9.628)\n",
      "(50461.299549, -9.937)\n",
      "(50461.535833, -9.998)\n",
      "(50462.302488, -10.026)\n",
      "(50463.472153, -10.255)\n",
      "(50465.305139, -9.819)\n",
      "(50467.323681, -9.585)\n",
      "(50468.344491, -9.451)\n",
      "(50469.40897, -9.264)\n",
      "(50470.411042, -9.505)\n",
      "(50478.49831, -9.471)\n",
      "(50479.433819, -9.352)\n",
      "(50484.35213, -10.247)\n",
      "(50494.329028, -10.178)\n",
      "(50496.514259, -9.826)\n",
      "(50498.539155, -9.568)\n",
      "(50507.490069, -9.766)\n",
      "(50518.410347, -9.724)\n",
      "(50521.387917, -9.361)\n",
      "(50526.330162, -10.25)\n",
      "(50530.255451, -9.512)\n",
      "(50533.408461, -9.647)\n",
      "(50539.275775, -9.716)\n",
      "(50542.316042, -9.358)\n",
      "(50545.430532, -10.036)\n",
      "(50550.380035, -9.626)\n",
      "(50553.321644, -9.413)\n",
      "(50557.408414, -10.272)\n",
      "(50565.345486, -9.874)\n",
      "(50569.384248, -9.827)\n",
      "(50577.26522, -10.069)\n",
      "(50581.266956, -9.672)\n",
      "(50595.265914, -9.5)\n",
      "(50601.268542, -9.762)\n",
      "(50607.641435, -10.037)\n",
      "(50614.629676, -9.34)\n",
      "(50620.210775, -10.224)\n",
      "(50633.206493, -9.708)\n",
      "(50639.547373, -10.013)\n",
      "(50642.505359, -9.793)\n",
      "(50647.56537, -9.513)\n",
      "(50656.612465, -9.33)\n",
      "(50659.485463, -10.015)\n",
      "(50661.623356, -10.243)\n",
      "(50669.50375, -9.882)\n",
      "(50670.656597, -10.018)\n",
      "(50675.471111, -9.578)\n",
      "(50679.422627, -9.691)\n",
      "(50680.600741, -10.049)\n",
      "(50682.453773, -10.241)\n",
      "(50684.616181, -9.74)\n",
      "(50689.564086, -9.61)\n",
      "(50701.557454, -10.021)\n",
      "(50704.54147, -9.859)\n",
      "(50714.465521, -10.063)\n",
      "(50717.550937, -9.531)\n",
      "(50719.490475, -9.336)\n",
      "(50721.385764, -9.809)\n",
      "(50722.513032, -10.026)\n",
      "(50725.33294, -9.875)\n",
      "(50730.411238, -9.404)\n",
      "(50731.536539, -9.709)\n",
      "(50733.405359, -10.031)\n",
      "(50734.501377, -10.259)\n",
      "(50736.366435, -9.757)\n",
      "(50737.431053, -9.669)\n",
      "(50739.340683, -9.379)\n",
      "(50742.305613, -9.846)\n",
      "(50744.511667, -10.233)\n",
      "(50746.385914, -9.818)\n",
      "(50748.359039, -9.574)\n",
      "(50767.318912, -9.81)\n",
      "(50769.392164, -9.551)\n",
      "(50771.453843, -9.33)\n",
      "(50775.478056, -10.157)\n",
      "(50785.319896, -10.027)\n",
      "(50796.309884, -10.156)\n",
      "(50797.504873, -10.091)\n",
      "(50803.477662, -9.464)\n",
      "(50808.316435, -9.968)\n",
      "(50812.365208, -9.375)\n",
      "(50818.524225, -10.076)\n",
      "(50830.423889, -9.778)\n",
      "(50834.465984, -9.425)\n",
      "(50836.520093, -10.003)\n",
      "(50841.308993, -9.662)\n",
      "(50844.391319, -9.364)\n",
      "(50848.47103, -10.207)\n",
      "(50857.276134, -10.035)\n",
      "(50861.275729, -9.772)\n",
      "(50862.497905, -9.656)\n",
      "(50864.528194, -9.387)\n",
      "(50866.442153, -9.609)\n",
      "(50869.264606, -10.196)\n",
      "(50874.390394, -9.462)\n",
      "(50879.26331, -10.068)\n",
      "(50881.333692, -9.938)\n",
      "(50884.401551, -9.517)\n",
      "(50908.335185, -9.644)\n",
      "(50916.398079, -9.399)\n",
      "(50921.386609, -10.218)\n",
      "(50941.192546, -10.044)\n",
      "(50973.558808, -10.185)\n",
      "(50982.182905, -9.983)\n",
      "(50994.63103, -10.25)\n",
      "(51000.587037, -9.346)\n",
      "(51005.552847, -10.207)\n",
      "(51017.536748, -9.784)\n",
      "(51028.466447, -9.732)\n",
      "(51033.648148, -9.761)\n",
      "(51047.619815, -10.07)\n",
      "(51051.538252, -9.412)\n",
      "(51056.406933, -10.088)\n",
      "(51061.467326, -9.529)\n",
      "(51072.414873, -9.385)\n",
      "(51073.585567, -9.348)\n",
      "(51082.594711, -9.449)\n",
      "(51085.362014, -9.623)\n",
      "(51086.581412, -9.999)\n",
      "(51089.466771, -9.984)\n",
      "(51097.459722, -10.025)\n",
      "(51099.576968, -10.094)\n",
      "(51102.371123, -9.588)\n",
      "(51106.435984, -9.707)\n",
      "(51109.472373, -10.247)\n",
      "(51111.477662, -9.752)\n",
      "(51113.547731, -9.484)\n",
      "(51118.432083, -10.03)\n",
      "(51120.48103, -10.067)\n",
      "(51131.49787, -9.838)\n",
      "(51136.526806, -9.424)\n",
      "(51141.342674, -10.046)\n",
      "(51147.454086, -9.542)\n",
      "(51156.269641, -9.351)\n",
      "(51167.436169, -9.366)\n",
      "(51171.398866, -10.191)\n",
      "(51176.376528, -9.444)\n",
      "(51180.46022, -10.051)\n",
      "(51183.344514, -9.912)\n",
      "(51188.24287, -9.354)\n",
      "(51193.486921, -10.033)\n",
      "(51204.533507, -9.84)\n",
      "(51214.4189, -9.994)\n",
      "(51223.508692, -10.228)\n",
      "(51227.485104, -9.587)\n",
      "(51237.249479, -9.635)\n",
      "(51241.36765, -9.605)\n",
      "(51246.421493, -9.8)\n",
      "(51249.414722, -9.422)\n",
      "(51262.217303, -9.594)\n",
      "(51277.413403, -9.845)\n",
      "(51279.417199, -9.612)\n",
      "(51285.374456, -10.053)\n",
      "(51286.381644, -10.243)\n",
      "(51289.287627, -9.665)\n",
      "(51292.278449, -9.355)\n",
      "(51299.29169, -9.753)\n",
      "(51302.279005, -9.348)\n",
      "(51305.270359, -10.023)\n",
      "(51308.256562, -9.945)\n",
      "(51313.21713, -9.348)\n",
      "(51317.261944, -10.231)\n",
      "(51326.222442, -10.042)\n",
      "(51339.212731, -10.068)\n",
      "(51350.66985, -9.782)\n",
      "(51364.193183, -9.377)\n",
      "(51382.605521, -9.722)\n",
      "(51389.617257, -10.083)\n",
      "(51393.557442, -9.665)\n",
      "(51401.545359, -10.121)\n",
      "(51405.657141, -9.409)\n",
      "(51408.601852, -9.778)\n",
      "(51411.592847, -10.22)\n",
      "(51414.526968, -9.65)\n",
      "(51421.462396, -10.256)\n",
      "(51424.478356, -9.706)\n",
      "(51431.46713, -10.122)\n",
      "(51433.593194, -9.848)\n",
      "(51435.568542, -9.61)\n",
      "(51440.429317, -10.0)\n",
      "(51443.546042, -9.986)\n",
      "(51450.408218, -9.844)\n",
      "(51462.365278, -10.041)\n",
      "(51463.537118, -10.251)\n",
      "(51468.473854, -9.365)\n",
      "(51471.379803, -9.906)\n",
      "(51472.524039, -10.022)\n",
      "(51478.35787, -9.43)\n",
      "(51479.490509, -9.339)\n",
      "(51484.263657, -10.255)\n",
      "(51488.448588, -9.48)\n",
      "(51491.480567, -9.652)\n",
      "(51493.515324, -10.045)\n",
      "(51495.492697, -10.009)\n",
      "(51505.470833, -10.183)\n",
      "(51510.444271, -9.344)\n",
      "(51513.293056, -10.011)\n",
      "(51514.451319, -10.063)\n",
      "(51526.316157, -10.175)\n",
      "(51531.401331, -9.35)\n",
      "(51541.344537, -9.367)\n",
      "(51546.325197, -10.238)\n"
     ]
    }
   ],
   "source": [
    "#your code here\n",
    "for i in l:\n",
    "    print(i)"
   ]
  },
  {
   "cell_type": "code",
   "execution_count": 119,
   "metadata": {
    "collapsed": false
   },
   "outputs": [
    {
     "data": {
      "text/plain": [
       "LightCurve([(48823.477419, -9.332), (48823.487014, -9.396), (48823.496759, -9.358), (48824.458206, -9.333), (48824.467697, -9.333), (48824.477639, -9.349), ...])"
      ]
     },
     "execution_count": 119,
     "metadata": {},
     "output_type": "execute_result"
    }
   ],
   "source": [
    "l2 = LightCurve.from_file(\"./data/CEPH/lc_1.3441.15.B.mjd\")\n",
    "l2"
   ]
  },
  {
   "cell_type": "code",
   "execution_count": 120,
   "metadata": {
    "collapsed": false
   },
   "outputs": [
    {
     "data": {
      "text/plain": [
       "1233"
      ]
     },
     "execution_count": 120,
     "metadata": {},
     "output_type": "execute_result"
    }
   ],
   "source": [
    "len(l2)"
   ]
  },
  {
   "cell_type": "code",
   "execution_count": 121,
   "metadata": {
    "collapsed": false
   },
   "outputs": [
    {
     "data": {
      "text/plain": [
       "(48974.325278, -10.251)"
      ]
     },
     "execution_count": 121,
     "metadata": {},
     "output_type": "execute_result"
    }
   ],
   "source": [
    "l2[100]"
   ]
  },
  {
   "cell_type": "code",
   "execution_count": 122,
   "metadata": {
    "collapsed": false
   },
   "outputs": [
    {
     "data": {
      "text/plain": [
       "[(48823.487014, -9.396), (48823.496759, -9.358)]"
      ]
     },
     "execution_count": 122,
     "metadata": {},
     "output_type": "execute_result"
    }
   ],
   "source": [
    "l2[1:3]# this will be not quite what we want given our __repr__"
   ]
  },
  {
   "cell_type": "markdown",
   "metadata": {},
   "source": [
    "The reason for the above not being quite the result we expect is because we dont yet know how Python handles slices. We shall do this next week!"
   ]
  },
  {
   "cell_type": "markdown",
   "metadata": {},
   "source": [
    "### A database for light curves\n",
    "\n",
    "We now write a small little database class whose game is to read all light curves from a directory, store them in memory and construct an \"index\" on the field, tile, and color that these light-curves have.\n",
    "\n",
    "A light curve filename of the form `lc_1.3441.15.B.mjd` means that this data has `field` 1, `tile` 3441, `sequence` 15, and `color` 'B'. We'll parse the filenames below and store the indexed in internal attributes such as `self._field_index`. Note the use of `defaultdict` instead of a regular dictionary (look it up). Are we duplicating Light Curve objects in these indices?\n",
    "\n",
    "### Q6. \n",
    "\n",
    "Write a method `def retrieve(self, facet, value)` which retrieves a list of Light Curves corresponding to the given value of the facet. (like say facet is tile and value is 4661)."
   ]
  },
  {
   "cell_type": "code",
   "execution_count": 135,
   "metadata": {
    "collapsed": false
   },
   "outputs": [],
   "source": [
    "\n",
    "import os\n",
    "from collections import defaultdict\n",
    "class LightCurveDB:\n",
    "    \n",
    "    def __init__(self):\n",
    "        self._collection={}\n",
    "        self._field_index=defaultdict(list)\n",
    "        self._tile_index=defaultdict(list)\n",
    "        self._color_index=defaultdict(list)\n",
    "    \n",
    "    def populate(self, folder):\n",
    "        for root,dirs,files in os.walk(folder): # DEPTH 1 ONLY\n",
    "            for file in files:\n",
    "                if file.find('.mjd')!=-1:\n",
    "                    the_path = root+\"/\"+file\n",
    "                    self._collection[file] = LightCurve.from_file(the_path)\n",
    "    \n",
    "    def index(self):\n",
    "        for f in self._collection:\n",
    "            lc, tilestring, seq, color, _ = f.split('.')\n",
    "            field = int(lc.split('_')[-1])\n",
    "            tile = int(tilestring)\n",
    "            self._field_index[field].append(self._collection[f])\n",
    "            self._tile_index[tile].append(self._collection[f])\n",
    "            self._color_index[color].append(self._collection[f])\n",
    "    def retrieve(self,facet,value):\n",
    "        if facet == 'tile':\n",
    "            return self._tile_index[value]\n",
    "        if facet == 'field':\n",
    "            return self._field_index[value]\n",
    "        if facet == 'color':\n",
    "            return self._color_index[value]\n",
    "        else:\n",
    "            print(\"Error\")\n",
    "            return None\n",
    "    def test(self):\n",
    "        print(len(self._tile_index[4661]))\n",
    "    #your code here\n"
   ]
  },
  {
   "cell_type": "code",
   "execution_count": 136,
   "metadata": {
    "collapsed": false
   },
   "outputs": [],
   "source": [
    "ldb = LightCurveDB()\n",
    "ldb.populate(\"data/CEPH\")\n",
    "ldb.index()"
   ]
  },
  {
   "cell_type": "code",
   "execution_count": 137,
   "metadata": {
    "collapsed": false
   },
   "outputs": [
    {
     "data": {
      "text/plain": [
       "[LightCurve([(48823.487014, -9.441), (48824.458206, -9.657), (48824.467697, -9.648), (48824.477639, -9.636), (48825.483183, -9.784), (48825.492847, -9.786), ...]),\n",
       " LightCurve([(48984.446505, -9.979), (48985.497512, -9.903), (48987.465058, -9.65), (48988.469595, -9.613), (48996.486991, -9.997), (48998.445995, -9.787), ...])]"
      ]
     },
     "execution_count": 137,
     "metadata": {},
     "output_type": "execute_result"
    }
   ],
   "source": [
    "(ldb.retrieve('tile', 4661)) # do this"
   ]
  },
  {
   "cell_type": "markdown",
   "metadata": {},
   "source": [
    "### Q7. Module-arity\n",
    "\n",
    "Put your `lc_reader`, and `LightCurve` and `LightCurveDB` classes in a module: a separate file, named lc.py. Organize the imports at the top. The following code should then work here"
   ]
  },
  {
   "cell_type": "code",
   "execution_count": 155,
   "metadata": {
    "collapsed": false
   },
   "outputs": [
    {
     "ename": "NameError",
     "evalue": "name 'LightCurve' is not defined",
     "output_type": "error",
     "traceback": [
      "\u001b[0;31m---------------------------------------------------------------------------\u001b[0m",
      "\u001b[0;31mNameError\u001b[0m                                 Traceback (most recent call last)",
      "\u001b[0;32m<ipython-input-155-143c92762297>\u001b[0m in \u001b[0;36m<module>\u001b[0;34m()\u001b[0m\n\u001b[1;32m      3\u001b[0m \u001b[0mlc\u001b[0m\u001b[0;34m.\u001b[0m\u001b[0mLightCurveDB\u001b[0m\u001b[0;34m\u001b[0m\u001b[0m\n\u001b[1;32m      4\u001b[0m \u001b[0mldb2\u001b[0m \u001b[0;34m=\u001b[0m \u001b[0mlc\u001b[0m\u001b[0;34m.\u001b[0m\u001b[0mLightCurveDB\u001b[0m\u001b[0;34m(\u001b[0m\u001b[0;34m)\u001b[0m\u001b[0;34m\u001b[0m\u001b[0m\n\u001b[0;32m----> 5\u001b[0;31m \u001b[0mldb2\u001b[0m\u001b[0;34m.\u001b[0m\u001b[0mpopulate\u001b[0m\u001b[0;34m(\u001b[0m\u001b[0;34m\"data/CEPH\"\u001b[0m\u001b[0;34m)\u001b[0m\u001b[0;34m\u001b[0m\u001b[0m\n\u001b[0m\u001b[1;32m      6\u001b[0m \u001b[0mldb2\u001b[0m\u001b[0;34m.\u001b[0m\u001b[0mindex\u001b[0m\u001b[0;34m(\u001b[0m\u001b[0;34m)\u001b[0m\u001b[0;34m\u001b[0m\u001b[0m\n\u001b[1;32m      7\u001b[0m \u001b[0mldb2\u001b[0m\u001b[0;34m.\u001b[0m\u001b[0mretrieve\u001b[0m\u001b[0;34m(\u001b[0m\u001b[0;34m'tile'\u001b[0m\u001b[0;34m,\u001b[0m \u001b[0;36m4661\u001b[0m\u001b[0;34m)\u001b[0m\u001b[0;34m\u001b[0m\u001b[0m\n",
      "\u001b[0;32m/Users/yuhantang/CS207/cs207labs/lab5/lc.py\u001b[0m in \u001b[0;36mpopulate\u001b[0;34m(self, folder)\u001b[0m\n\u001b[1;32m     14\u001b[0m \u001b[0;34m\u001b[0m\u001b[0m\n\u001b[1;32m     15\u001b[0m     \u001b[0;34m@\u001b[0m\u001b[0mclassmethod\u001b[0m\u001b[0;34m\u001b[0m\u001b[0m\n\u001b[0;32m---> 16\u001b[0;31m     \u001b[0;32mdef\u001b[0m \u001b[0mfrom_file\u001b[0m\u001b[0;34m(\u001b[0m\u001b[0mcls\u001b[0m\u001b[0;34m,\u001b[0m \u001b[0mfilename\u001b[0m\u001b[0;34m)\u001b[0m\u001b[0;34m:\u001b[0m\u001b[0;34m\u001b[0m\u001b[0m\n\u001b[0m\u001b[1;32m     17\u001b[0m         \u001b[0mlclist\u001b[0m\u001b[0;34m,\u001b[0m \u001b[0mmetadict\u001b[0m \u001b[0;34m=\u001b[0m \u001b[0mlc_reader\u001b[0m\u001b[0;34m(\u001b[0m\u001b[0mfilename\u001b[0m\u001b[0;34m)\u001b[0m\u001b[0;34m\u001b[0m\u001b[0m\n\u001b[1;32m     18\u001b[0m         \u001b[0minstance\u001b[0m \u001b[0;34m=\u001b[0m \u001b[0mcls\u001b[0m\u001b[0;34m(\u001b[0m\u001b[0mlclist\u001b[0m\u001b[0;34m,\u001b[0m \u001b[0mmetadict\u001b[0m\u001b[0;34m)\u001b[0m\u001b[0;34m\u001b[0m\u001b[0m\n",
      "\u001b[0;31mNameError\u001b[0m: name 'LightCurve' is not defined"
     ]
    }
   ],
   "source": [
    "import lc\n",
    "import reprlib\n",
    "lc.LightCurveDB\n",
    "ldb2 = lc.LightCurveDB()\n",
    "ldb2.populate(\"data/CEPH\")\n",
    "ldb2.index()\n",
    "ldb2.retrieve('tile', 4661)"
   ]
  },
  {
   "cell_type": "code",
   "execution_count": 157,
   "metadata": {
    "collapsed": false
   },
   "outputs": [
    {
     "ename": "AttributeError",
     "evalue": "module 'lc' has no attribute 'LightCurve'",
     "output_type": "error",
     "traceback": [
      "\u001b[0;31m---------------------------------------------------------------------------\u001b[0m",
      "\u001b[0;31mAttributeError\u001b[0m                            Traceback (most recent call last)",
      "\u001b[0;32m<ipython-input-157-d49db9680fbc>\u001b[0m in \u001b[0;36m<module>\u001b[0;34m()\u001b[0m\n\u001b[1;32m      1\u001b[0m \u001b[0;32mimport\u001b[0m \u001b[0mlc\u001b[0m\u001b[0;34m\u001b[0m\u001b[0m\n\u001b[0;32m----> 2\u001b[0;31m \u001b[0mlc\u001b[0m\u001b[0;34m.\u001b[0m\u001b[0mLightCurve\u001b[0m\u001b[0;34m\u001b[0m\u001b[0m\n\u001b[0m",
      "\u001b[0;31mAttributeError\u001b[0m: module 'lc' has no attribute 'LightCurve'"
     ]
    }
   ],
   "source": [
    "import lc\n",
    "lc.LightCurve"
   ]
  },
  {
   "cell_type": "code",
   "execution_count": 154,
   "metadata": {
    "collapsed": false
   },
   "outputs": [
    {
     "name": "stdout",
     "output_type": "stream",
     "text": [
      "Overwriting lc.py\n"
     ]
    }
   ],
   "source": [
    "%%file lc.py\n",
    "\n",
    "import itertools\n",
    "\n",
    "\n",
    "import itertools\n",
    "class LightCurve:\n",
    "    \n",
    "    def __init__(self, data, metadict):\n",
    "        self._time = [x[0] for x in data]\n",
    "        self._amplitude = [x[1] for x in data]\n",
    "        self._error = [x[2] for x in data]\n",
    "        self._timeseries = list(zip(self._time, self._amplitude))\n",
    "        self.metadata = metadict\n",
    "        self.filename = None\n",
    "    \n",
    "    @classmethod\n",
    "    def from_file(cls, filename):\n",
    "        lclist, metadict = lc_reader(filename)\n",
    "        instance = cls(lclist, metadict)\n",
    "        instance.filename = filename\n",
    "        return instance\n",
    "    \n",
    "    def __repr__(self):\n",
    "        class_name = type(self).__name__\n",
    "        components = reprlib.repr(list(itertools.islice(self.timeseries,0,10)))\n",
    "        components = components[components.find('['):]\n",
    "        return '{}({})'.format(class_name, components)      \n",
    "    @property\n",
    "    def time(self):\n",
    "        return self._time\n",
    "    @property\n",
    "    def amplitude(self):\n",
    "        return self._amplitude\n",
    "    @property\n",
    "    def timeseries(self):\n",
    "        return self._timeseries\n",
    "    def __len__(self):\n",
    "        return len(self.timeseries)\n",
    "    def __getitem__(self,position):\n",
    "        return self.timeseries[position]\n",
    "\n",
    "class LightCurveDB:\n",
    "    \n",
    "    def __init__(self):\n",
    "        self._collection={}\n",
    "        self._field_index=defaultdict(list)\n",
    "        self._tile_index=defaultdict(list)\n",
    "        self._color_index=defaultdict(list)\n",
    "    \n",
    "    def populate(self, folder):\n",
    "        for root,dirs,files in os.walk(folder): # DEPTH 1 ONLY\n",
    "            for file in files:\n",
    "                if file.find('.mjd')!=-1:\n",
    "                    the_path = root+\"/\"+file\n",
    "                    self._collection[file] = LightCurve.from_file(the_path)\n",
    "    \n",
    "    def index(self):\n",
    "        for f in self._collection:\n",
    "            lc, tilestring, seq, color, _ = f.split('.')\n",
    "            field = int(lc.split('_')[-1])\n",
    "            tile = int(tilestring)\n",
    "            self._field_index[field].append(self._collection[f])\n",
    "            self._tile_index[tile].append(self._collection[f])\n",
    "            self._color_index[color].append(self._collection[f])\n",
    "    def retrieve(self,facet,value):\n",
    "        if facet == 'tile':\n",
    "            return self._tile_index[value]\n",
    "        if facet == 'field':\n",
    "            return self._field_index[value]\n",
    "        if facet == 'color':\n",
    "            return self._color_index[value]\n",
    "        else:\n",
    "            print(\"Error\")\n",
    "            return None\n",
    "    def test(self):\n",
    "        print(len(self._tile_index[4661]))\n",
    "    #your code here\n",
    "# your code here\n",
    "def lc_reader(filename):\n",
    "    lclist=[]\n",
    "    lcdict = {}\n",
    "    i=0\n",
    "    facetnames = []\n",
    "    facetvalues = []\n",
    "    with open(filename) as fp:\n",
    "        for line in fp:\n",
    "            #print(line)\n",
    "            i+=1\n",
    "            #if i>2:\n",
    "             #   break\n",
    "            if line.find('#')!=0:\n",
    "                lclist.append([float(f) for f in line.strip().split()])\n",
    "            else:\n",
    "                if i == 1:\n",
    "                    facetnames = (line.strip().split())\n",
    "                    #print(facetnames)\n",
    "                if i ==2:\n",
    "                    facetvalues = (line.strip().split())\n",
    "                    #print(facetvalues)\n",
    "    facetnames[0] = facetnames[0][1:]\n",
    "    facetvalues[0] = facetvalues[0][1:]\n",
    "    #print (facetnames)\n",
    "    #print (facetvalues)\n",
    "    return lclist,dict(zip(facetnames,facetvalues))\n",
    "\n",
    "    "
   ]
  },
  {
   "cell_type": "code",
   "execution_count": null,
   "metadata": {
    "collapsed": true
   },
   "outputs": [],
   "source": []
  },
  {
   "cell_type": "code",
   "execution_count": null,
   "metadata": {
    "collapsed": true
   },
   "outputs": [],
   "source": []
  }
 ],
 "metadata": {
  "kernelspec": {
   "display_name": "Python 3",
   "language": "python",
   "name": "python3"
  },
  "language_info": {
   "codemirror_mode": {
    "name": "ipython",
    "version": 3
   },
   "file_extension": ".py",
   "mimetype": "text/x-python",
   "name": "python",
   "nbconvert_exporter": "python",
   "pygments_lexer": "ipython3",
   "version": "3.5.1"
  }
 },
 "nbformat": 4,
 "nbformat_minor": 0
}
